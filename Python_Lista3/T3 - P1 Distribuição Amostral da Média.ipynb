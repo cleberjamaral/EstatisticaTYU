{
 "cells": [
  {
   "cell_type": "code",
   "execution_count": 26,
   "metadata": {},
   "outputs": [],
   "source": [
    "import matplotlib.pyplot as plt\n",
    "import pandas as pd\n",
    "import numpy as np\n",
    "import math\n",
    "import random\n",
    "import seaborn as sns\n",
    "import scipy.stats as stats\n",
    "\n",
    "dpi=400\n",
    "default_hatch_patterns = [\"o\" , \"x\", \".\" , \"*\" , \".\" , \"\\\\\" , \"O\", \".\", \"*\"]\n",
    "default_color = \"0.80\"\n",
    "default_box_width = 14\n",
    "default_box_marker = \"|\"\n",
    "default_box_marker_size = 20\n",
    "default_box_marker_alpha = 0.8\n",
    "default_grid_color = \"0.8\"\n",
    "df = pd.read_csv(\"TYU07_corrigido.csv\").drop('Unnamed: 0', axis=1)"
   ]
  },
  {
   "cell_type": "markdown",
   "metadata": {},
   "source": [
    "# Parte 1 – Distribuição Amostral da Média"
   ]
  },
  {
   "cell_type": "markdown",
   "metadata": {},
   "source": [
    "## Questão 1\n",
    "Usando qualquer aplicativo que considere apropriado1 proceda a retirada de 1000 amostras aleatórias da variável Renda (primeiramente exclua as linhas com dados perdidos), com os seguintes tamanhos: 4, 16, 64 e 256 elementos. Com base nos resultados encontrados responda os itens a seguir:"
   ]
  },
  {
   "cell_type": "code",
   "execution_count": 27,
   "metadata": {},
   "outputs": [],
   "source": [
    "sample4 = list()\n",
    "sample16 = list()\n",
    "sample64 = list()\n",
    "sample256 = list()\n",
    "\n",
    "# Garante que sempre serão gerados os mesmos números aleatórios\n",
    "random.seed(1)\n",
    "\n",
    "# Retira X elementos aleatoriamente da coluna Renda 1000 vezes\n",
    "for i in range(1000):\n",
    "    sample4.append(\n",
    "        random.sample(df[\"Renda\"].dropna().tolist(), 4)\n",
    "    )\n",
    "    sample16.append(random.sample(df[\"Renda\"].dropna().tolist(), 16))\n",
    "    sample64.append(random.sample(df[\"Renda\"].dropna().tolist(), 64))\n",
    "    sample256.append(random.sample(df[\"Renda\"].dropna().tolist(), 256))"
   ]
  },
  {
   "cell_type": "markdown",
   "metadata": {},
   "source": [
    "### 1.a Pelo teorema central do limite admite-se que o valor esperado da média amostral seja a média populacional que se pretende estimar, e eles serão tão mais próximos à medida que aumenta o tamanho da amostra. Isso é confirmado pelos resultados obtidos nas amostras? JUSTIFIQUE."
   ]
  },
  {
   "cell_type": "code",
   "execution_count": 28,
   "metadata": {},
   "outputs": [],
   "source": [
    "mean4 = list()\n",
    "mean16 = list()\n",
    "mean64 = list()\n",
    "mean256 = list()\n",
    "# Como cada elemento das listas é composto por um conjunto de valores, é retirado a média de cada um desses conjuntos (há 1000)\n",
    "for i in range(1000):\n",
    "    mean4.append(np.mean(sample4[i]))\n",
    "    mean16.append(np.mean(sample16[i]))\n",
    "    mean64.append(np.mean(sample64[i]))\n",
    "    mean256.append(np.mean(sample256[i]))\n",
    "    \n",
    "# Cria um dataframe com as seguintes colunas    \n",
    "df1a = pd.DataFrame(columns=[\"Média amostral (N de sal. mín.)\", \"Erro em relação à população (%)\"])\n",
    "\n",
    "# Inclui as linhas no dataframe\n",
    "df1a.loc[\"Média de amostragem de tamanho 4\"] = np.array([np.mean(mean4), abs(100*(np.mean(mean4)-df[\"Renda\"].mean())/df[\"Renda\"].mean())])\n",
    "df1a.loc[\"Média de amostragem de tamanho 16\"] = np.array([np.mean(mean16), abs(100*(np.mean(mean16)-df[\"Renda\"].mean())/df[\"Renda\"].mean())])\n",
    "df1a.loc[\"Média de amostragem de tamanho 64\"] = np.array([np.mean(mean64), abs(100*(np.mean(mean64)-df[\"Renda\"].mean())/df[\"Renda\"].mean())])\n",
    "df1a.loc[\"Média de amostragem de tamanho 256\"] = np.array([np.mean(mean256), abs(100*(np.mean(mean256)-df[\"Renda\"].mean())/df[\"Renda\"].mean())])\n",
    "df1a.loc[\"Média populacional\"] = np.array([df[\"Renda\"].mean(), 0])\n",
    "\n",
    "# Arredonda e salva em formato CSV com os indices\n",
    "df1a.round(3).to_csv(\"Dados\\Q1a.csv\", encoding='utf-8', index=True)"
   ]
  },
  {
   "cell_type": "code",
   "execution_count": 29,
   "metadata": {
    "scrolled": true
   },
   "outputs": [
    {
     "data": {
      "text/html": [
       "<div>\n",
       "<style scoped>\n",
       "    .dataframe tbody tr th:only-of-type {\n",
       "        vertical-align: middle;\n",
       "    }\n",
       "\n",
       "    .dataframe tbody tr th {\n",
       "        vertical-align: top;\n",
       "    }\n",
       "\n",
       "    .dataframe thead th {\n",
       "        text-align: right;\n",
       "    }\n",
       "</style>\n",
       "<table border=\"1\" class=\"dataframe\">\n",
       "  <thead>\n",
       "    <tr style=\"text-align: right;\">\n",
       "      <th></th>\n",
       "      <th>Média amostral (N de sal. mín.)</th>\n",
       "      <th>Erro em relação à população (%)</th>\n",
       "    </tr>\n",
       "  </thead>\n",
       "  <tbody>\n",
       "    <tr>\n",
       "      <th>Média de amostragem de tamanho 4</th>\n",
       "      <td>1.780620</td>\n",
       "      <td>0.034032</td>\n",
       "    </tr>\n",
       "    <tr>\n",
       "      <th>Média de amostragem de tamanho 16</th>\n",
       "      <td>1.793722</td>\n",
       "      <td>0.701557</td>\n",
       "    </tr>\n",
       "    <tr>\n",
       "      <th>Média de amostragem de tamanho 64</th>\n",
       "      <td>1.784320</td>\n",
       "      <td>0.173716</td>\n",
       "    </tr>\n",
       "    <tr>\n",
       "      <th>Média de amostragem de tamanho 256</th>\n",
       "      <td>1.779517</td>\n",
       "      <td>0.095939</td>\n",
       "    </tr>\n",
       "    <tr>\n",
       "      <th>Média populacional</th>\n",
       "      <td>1.781226</td>\n",
       "      <td>0.000000</td>\n",
       "    </tr>\n",
       "  </tbody>\n",
       "</table>\n",
       "</div>"
      ],
      "text/plain": [
       "                                    Média amostral (N de sal. mín.)  \\\n",
       "Média de amostragem de tamanho 4                           1.780620   \n",
       "Média de amostragem de tamanho 16                          1.793722   \n",
       "Média de amostragem de tamanho 64                          1.784320   \n",
       "Média de amostragem de tamanho 256                         1.779517   \n",
       "Média populacional                                         1.781226   \n",
       "\n",
       "                                    Erro em relação à população (%)  \n",
       "Média de amostragem de tamanho 4                           0.034032  \n",
       "Média de amostragem de tamanho 16                          0.701557  \n",
       "Média de amostragem de tamanho 64                          0.173716  \n",
       "Média de amostragem de tamanho 256                         0.095939  \n",
       "Média populacional                                         0.000000  "
      ]
     },
     "execution_count": 29,
     "metadata": {},
     "output_type": "execute_result"
    }
   ],
   "source": [
    "df1a"
   ]
  },
  {
   "cell_type": "markdown",
   "metadata": {},
   "source": [
    "### 1.b) Além do que foi dito acima, admite-se que o desvio padrão das médias amostrais será igual ao desvio padrão populacional dividido pela raiz quadrada do tamanho da amostra, e eles serão tão mais próximos à medida que aumenta o tamanho da amostra. As amostras retiradas confirmam essa afirmação? JUSTIFIQUE."
   ]
  },
  {
   "cell_type": "code",
   "execution_count": 30,
   "metadata": {},
   "outputs": [],
   "source": [
    "df1b = pd.DataFrame(columns=[\"Desvio padrão amostral (N de sal. mín.)\", \"Desvio padrão amostral * sqrt(N)\", \"Erro (%)\"])\n",
    "\n",
    "df1b.loc[\"Desvio padrão de amostragem de tamanho 4\"] = np.array([np.std(mean4),     np.std(mean4)*math.sqrt(4),     abs(100*(1 - np.std(mean4)  /(df[\"Renda\"].std()/math.sqrt(4))))])\n",
    "df1b.loc[\"Desvio padrão de amostragem de tamanho 16\"] = np.array([np.std(mean16),   np.std(mean16)*math.sqrt(16),   abs(100*(1 - np.std(mean16) /(df[\"Renda\"].std()/math.sqrt(16))))])\n",
    "df1b.loc[\"Desvio padrão de amostragem de tamanho 64\"] = np.array([np.std(mean64),   np.std(mean64)*math.sqrt(64),   abs(100*(1 - np.std(mean64) /(df[\"Renda\"].std()/math.sqrt(64))))])\n",
    "df1b.loc[\"Desvio padrão de amostragem de tamanho 256\"] = np.array([np.std(mean256), np.std(mean256)*math.sqrt(256), abs(100*(1 - np.std(mean256)/(df[\"Renda\"].std()/math.sqrt(256))))])\n",
    "df1b.loc[\"Desvio padrão populacional\"] = np.array([round(df[\"Renda\"].std(),5),\" -\", 0])\n",
    "\n",
    "# Arredonda e salva em formato CSV com os indices\n",
    "df1b.round(3).to_csv(\"Dados\\Q1b.csv\", encoding='utf-8', index=True)"
   ]
  },
  {
   "cell_type": "code",
   "execution_count": 31,
   "metadata": {},
   "outputs": [],
   "source": [
    "# df1b = pd.DataFrame(columns=[\"Desvio padrão amostral (N de sal. mín.)\", \"sigma/sqrt(N)\", \"Erro (%)\"])\n",
    "\n",
    "# df1b.loc[\"Desvio padrão de amostragem de tamanho 4\"] = np.array([np.std(mean4),     df[\"Renda\"].std()/math.sqrt(4),   abs(100*(1 - np.std(mean4)  /(df[\"Renda\"].std()/math.sqrt(4))))])\n",
    "# df1b.loc[\"Desvio padrão de amostragem de tamanho 16\"] = np.array([np.std(mean16),   df[\"Renda\"].std()/math.sqrt(16),  abs(100*(1 - np.std(mean16) /(df[\"Renda\"].std()/math.sqrt(16))))])\n",
    "# df1b.loc[\"Desvio padrão de amostragem de tamanho 64\"] = np.array([np.std(mean64),   df[\"Renda\"].std()/math.sqrt(64),  abs(100*(1 - np.std(mean64) /(df[\"Renda\"].std()/math.sqrt(64))))])\n",
    "# df1b.loc[\"Desvio padrão de amostragem de tamanho 256\"] = np.array([np.std(mean256), df[\"Renda\"].std()/math.sqrt(256), abs(100*(1 - np.std(mean256)/(df[\"Renda\"].std()/math.sqrt(256))))])\n",
    "# df1b.loc[\"Desvio padrão populacional\"] = np.array([df[\"Renda\"].std(),\" -\", 0])\n",
    "\n",
    "# # Arredonda e salva em formato CSV com os indices\n",
    "# df1b.round(3).to_csv(\"Data\\Q1b.csv\", encoding='utf-8', index=True)"
   ]
  },
  {
   "cell_type": "code",
   "execution_count": 32,
   "metadata": {},
   "outputs": [
    {
     "data": {
      "text/html": [
       "<div>\n",
       "<style scoped>\n",
       "    .dataframe tbody tr th:only-of-type {\n",
       "        vertical-align: middle;\n",
       "    }\n",
       "\n",
       "    .dataframe tbody tr th {\n",
       "        vertical-align: top;\n",
       "    }\n",
       "\n",
       "    .dataframe thead th {\n",
       "        text-align: right;\n",
       "    }\n",
       "</style>\n",
       "<table border=\"1\" class=\"dataframe\">\n",
       "  <thead>\n",
       "    <tr style=\"text-align: right;\">\n",
       "      <th></th>\n",
       "      <th>Desvio padrão amostral (N de sal. mín.)</th>\n",
       "      <th>Desvio padrão amostral * sqrt(N)</th>\n",
       "      <th>Erro (%)</th>\n",
       "    </tr>\n",
       "  </thead>\n",
       "  <tbody>\n",
       "    <tr>\n",
       "      <th>Desvio padrão de amostragem de tamanho 4</th>\n",
       "      <td>0.596481</td>\n",
       "      <td>1.19296</td>\n",
       "      <td>1.02464</td>\n",
       "    </tr>\n",
       "    <tr>\n",
       "      <th>Desvio padrão de amostragem de tamanho 16</th>\n",
       "      <td>0.307548</td>\n",
       "      <td>1.23019</td>\n",
       "      <td>4.1774</td>\n",
       "    </tr>\n",
       "    <tr>\n",
       "      <th>Desvio padrão de amostragem de tamanho 64</th>\n",
       "      <td>0.143418</td>\n",
       "      <td>1.14734</td>\n",
       "      <td>2.83871</td>\n",
       "    </tr>\n",
       "    <tr>\n",
       "      <th>Desvio padrão de amostragem de tamanho 256</th>\n",
       "      <td>0.0726477</td>\n",
       "      <td>1.16236</td>\n",
       "      <td>1.5665</td>\n",
       "    </tr>\n",
       "    <tr>\n",
       "      <th>Desvio padrão populacional</th>\n",
       "      <td>1.18086</td>\n",
       "      <td>-</td>\n",
       "      <td>0</td>\n",
       "    </tr>\n",
       "  </tbody>\n",
       "</table>\n",
       "</div>"
      ],
      "text/plain": [
       "                                           Desvio padrão amostral (N de sal. mín.)  \\\n",
       "Desvio padrão de amostragem de tamanho 4                                  0.596481   \n",
       "Desvio padrão de amostragem de tamanho 16                                 0.307548   \n",
       "Desvio padrão de amostragem de tamanho 64                                 0.143418   \n",
       "Desvio padrão de amostragem de tamanho 256                               0.0726477   \n",
       "Desvio padrão populacional                                                 1.18086   \n",
       "\n",
       "                                           Desvio padrão amostral * sqrt(N)  \\\n",
       "Desvio padrão de amostragem de tamanho 4                            1.19296   \n",
       "Desvio padrão de amostragem de tamanho 16                           1.23019   \n",
       "Desvio padrão de amostragem de tamanho 64                           1.14734   \n",
       "Desvio padrão de amostragem de tamanho 256                          1.16236   \n",
       "Desvio padrão populacional                                                -   \n",
       "\n",
       "                                           Erro (%)  \n",
       "Desvio padrão de amostragem de tamanho 4    1.02464  \n",
       "Desvio padrão de amostragem de tamanho 16    4.1774  \n",
       "Desvio padrão de amostragem de tamanho 64   2.83871  \n",
       "Desvio padrão de amostragem de tamanho 256   1.5665  \n",
       "Desvio padrão populacional                        0  "
      ]
     },
     "execution_count": 32,
     "metadata": {},
     "output_type": "execute_result"
    }
   ],
   "source": [
    "df1b"
   ]
  },
  {
   "cell_type": "markdown",
   "metadata": {},
   "source": [
    "### c) Outra característica muito importante do teorema central do limite é que a distribuição amostral da média será cada vez mais próxima de uma distribuição normal, à medida que o tamanho da amostra aumenta, independentemente da forma da distribuição da variável na população. Sabe-se que a variável Renda não tem distribuição normal na população. Os resultados das amostras corroboram esta afirmação (usem os gráficos apropriados). JUSTIFIQUE."
   ]
  },
  {
   "cell_type": "code",
   "execution_count": 33,
   "metadata": {},
   "outputs": [],
   "source": [
    "df1c = pd.DataFrame(columns=[\"Assimetria\", \"Curtose\"])\n",
    "df1c.loc[\"Amostragem de tamanho 4\"] = np.array([stats.skew(mean4), stats.kurtosis(mean4)])\n",
    "df1c.loc[\"Amostragem de tamanho 16\"] = np.array([stats.skew(mean16), stats.kurtosis(mean16)])\n",
    "df1c.loc[\"Amostragem de tamanho 64\"] = np.array([stats.skew(mean64), stats.kurtosis(mean64)])\n",
    "df1c.loc[\"Amostragem de tamanho 256\"] = np.array([stats.skew(mean256), stats.kurtosis(mean256)])\n",
    "\n",
    "df1c.round(3).to_csv(\"Dados\\Q1c.csv\", encoding='utf-8', index=True)"
   ]
  },
  {
   "cell_type": "code",
   "execution_count": 34,
   "metadata": {
    "scrolled": true
   },
   "outputs": [
    {
     "data": {
      "text/html": [
       "<div>\n",
       "<style scoped>\n",
       "    .dataframe tbody tr th:only-of-type {\n",
       "        vertical-align: middle;\n",
       "    }\n",
       "\n",
       "    .dataframe tbody tr th {\n",
       "        vertical-align: top;\n",
       "    }\n",
       "\n",
       "    .dataframe thead th {\n",
       "        text-align: right;\n",
       "    }\n",
       "</style>\n",
       "<table border=\"1\" class=\"dataframe\">\n",
       "  <thead>\n",
       "    <tr style=\"text-align: right;\">\n",
       "      <th></th>\n",
       "      <th>Assimetria</th>\n",
       "      <th>Curtose</th>\n",
       "    </tr>\n",
       "  </thead>\n",
       "  <tbody>\n",
       "    <tr>\n",
       "      <th>Amostragem de tamanho 4</th>\n",
       "      <td>2.293004</td>\n",
       "      <td>9.842705</td>\n",
       "    </tr>\n",
       "    <tr>\n",
       "      <th>Amostragem de tamanho 16</th>\n",
       "      <td>1.167058</td>\n",
       "      <td>2.813293</td>\n",
       "    </tr>\n",
       "    <tr>\n",
       "      <th>Amostragem de tamanho 64</th>\n",
       "      <td>0.501371</td>\n",
       "      <td>0.554721</td>\n",
       "    </tr>\n",
       "    <tr>\n",
       "      <th>Amostragem de tamanho 256</th>\n",
       "      <td>0.250046</td>\n",
       "      <td>0.042789</td>\n",
       "    </tr>\n",
       "  </tbody>\n",
       "</table>\n",
       "</div>"
      ],
      "text/plain": [
       "                           Assimetria   Curtose\n",
       "Amostragem de tamanho 4      2.293004  9.842705\n",
       "Amostragem de tamanho 16     1.167058  2.813293\n",
       "Amostragem de tamanho 64     0.501371  0.554721\n",
       "Amostragem de tamanho 256    0.250046  0.042789"
      ]
     },
     "execution_count": 34,
     "metadata": {},
     "output_type": "execute_result"
    }
   ],
   "source": [
    "df1c"
   ]
  },
  {
   "cell_type": "markdown",
   "metadata": {},
   "source": [
    "Mesocúrtica: achatamento da curva normal, curtose = 0.\n",
    "Se assimetria = 0, a distribuição é SIMÉTRICA."
   ]
  },
  {
   "cell_type": "code",
   "execution_count": 35,
   "metadata": {},
   "outputs": [],
   "source": [
    "# fig, ax = plt.subplots(figsize=(7,4))    \n",
    "# ax.set(title=\"Relação entre tamanho de amostra e assimetria e curtose\")\n",
    "# df1c[\"Assimetria\"].plot(ax=ax, kind=\"line\", color='black', linestyle='--')\n",
    "# df1c[\"Curtose\"].plot(ax=ax, kind=\"line\", color='black', linestyle='-')\n",
    "# ax.grid(color=default_grid_color)\n",
    "# ax.set_xticks(np.arange(4), (\"Amostragem de tamanho 4\", \"Amostragem de tamanho 16\", \"Amostragem de tamanho 64\", \"Amostragem de tamanho 256\"))\n"
   ]
  },
  {
   "cell_type": "code",
   "execution_count": 36,
   "metadata": {
    "scrolled": true
   },
   "outputs": [
    {
     "data": {
      "image/png": "[encoded data removed]",
      "text/plain": [
       "<Figure size 936x360 with 1 Axes>"
      ]
     },
     "metadata": {},
     "output_type": "display_data"
    }
   ],
   "source": [
    "fig, ax = plt.subplots(figsize=(13,5))\n",
    "\n",
    "sns.kdeplot(mean4,   ax=ax, color='black', linestyle=':')\n",
    "sns.kdeplot(mean16,  ax=ax, color='black', linestyle='-.')\n",
    "sns.kdeplot(mean64,  ax=ax, color='black', linestyle='-')\n",
    "sns.kdeplot(mean256, ax=ax, color='black', linestyle='--')\n",
    "\n",
    "\n",
    "ax.set(title=\"Gráfico de densidade das médias das amostragens da variável Renda\", xlabel=\"Renda em número de salários mínimos\", ylabel=\"Densidade\")\n",
    "ax.annotate('N = 4',   xy=(1.07, 0.40), xytext=(0.7, 1.5), arrowprops=dict(arrowstyle='-|>', fc='black'))\n",
    "ax.annotate('N = 16',  xy=(1.34, 0.50), xytext=(0.9, 2.1), arrowprops=dict(arrowstyle='-|>', fc='black'))\n",
    "ax.annotate('N = 64',  xy=(1.60, 1.66), xytext=(1.1, 3.0), arrowprops=dict(arrowstyle='-|>', fc='black'))\n",
    "ax.annotate('N = 256', xy=(1.68, 2.98), xytext=(1.2, 4.1), arrowprops=dict(arrowstyle='-|>', fc='black'))\n",
    "\n",
    "ax.legend(handles=ax.lines, labels=[\"Amostra de tamanho 4\",\"Amostra de tamanho 16\",\"Amostra de tamanho 64\",\"Amostra de tamanho 256\"])\n",
    "\n",
    "ax.grid(color=default_grid_color)\n",
    "ax.set_xbound((0.5,3.5))\n",
    "\n",
    "# Insere linnha de média populacional\n",
    "ax.axvline(x=df[\"Renda\"].mean(), color='black', linestyle=':')\n",
    "\n",
    "# Insere anotação sobre a linha de média\n",
    "ax.annotate('Média populacional: {:0.2f}'.format(df[\"Renda\"].mean()), xy=(df[\"Renda\"].mean(), 0.74), xytext=(80, -2),\n",
    "    xycoords=('data', 'axes fraction'), textcoords='offset points',\n",
    "    arrowprops=dict(arrowstyle='-|>', fc='black'))\n",
    "\n",
    "# Insere informação adicional\n",
    "ax.text(0.9, 5, \"N = Tamanho da amostra\", va=\"center\", ha=\"center\",\n",
    "        bbox=dict(boxstyle=\"round\", alpha=1, fc='white'))\n",
    "\n",
    "# Salva figura na pasta dedicada\n",
    "plt.savefig('Dados\\Q1c.png', bbox_inches='tight', dpi=dpi)"
   ]
  },
  {
   "cell_type": "markdown",
   "metadata": {},
   "source": [
    "### 1.d) Obtenha os intervalos de 95% de confiança para as 1000 amostras de cada tamanho. Construa gráficos apropriados para mostrá-los. Analisando os gráficos, o que você pode concluir sobre a precisão dos intervalos à medida que aumenta o tamanho de amostra? JUSTIFIQUE."
   ]
  },
  {
   "cell_type": "markdown",
   "metadata": {},
   "source": [
    "Para 95% de confiança, zc = 1.96. Pelo teorema do limite central, para tamanhos de amostras superiores a 30 a distribuição das médias tende a ser normal. O nivel de conficanca c é o intervalo entre -zc e +zc. A area que sobra é de 1 - c, portanto, cada cauda tem area (1 - c)/2. A margem de erro é E = (zc * sd)/sqrt(n)"
   ]
  },
  {
   "cell_type": "code",
   "execution_count": 37,
   "metadata": {},
   "outputs": [
    {
     "data": {
      "text/html": [
       "<div>\n",
       "<style scoped>\n",
       "    .dataframe tbody tr th:only-of-type {\n",
       "        vertical-align: middle;\n",
       "    }\n",
       "\n",
       "    .dataframe tbody tr th {\n",
       "        vertical-align: top;\n",
       "    }\n",
       "\n",
       "    .dataframe thead th {\n",
       "        text-align: right;\n",
       "    }\n",
       "</style>\n",
       "<table border=\"1\" class=\"dataframe\">\n",
       "  <thead>\n",
       "    <tr style=\"text-align: right;\">\n",
       "      <th></th>\n",
       "      <th>Limite inferior</th>\n",
       "      <th>Valor central</th>\n",
       "      <th>Limite superior</th>\n",
       "      <th>Erro</th>\n",
       "    </tr>\n",
       "  </thead>\n",
       "  <tbody>\n",
       "    <tr>\n",
       "      <th>0</th>\n",
       "      <td>1.196069</td>\n",
       "      <td>1.780620</td>\n",
       "      <td>2.365171</td>\n",
       "      <td>0.584551</td>\n",
       "    </tr>\n",
       "    <tr>\n",
       "      <th>1</th>\n",
       "      <td>1.643024</td>\n",
       "      <td>1.793722</td>\n",
       "      <td>1.944421</td>\n",
       "      <td>0.150698</td>\n",
       "    </tr>\n",
       "    <tr>\n",
       "      <th>2</th>\n",
       "      <td>1.749183</td>\n",
       "      <td>1.784320</td>\n",
       "      <td>1.819458</td>\n",
       "      <td>0.035137</td>\n",
       "    </tr>\n",
       "    <tr>\n",
       "      <th>3</th>\n",
       "      <td>1.770618</td>\n",
       "      <td>1.779517</td>\n",
       "      <td>1.788417</td>\n",
       "      <td>0.008899</td>\n",
       "    </tr>\n",
       "  </tbody>\n",
       "</table>\n",
       "</div>"
      ],
      "text/plain": [
       "   Limite inferior  Valor central  Limite superior      Erro\n",
       "0         1.196069       1.780620         2.365171  0.584551\n",
       "1         1.643024       1.793722         1.944421  0.150698\n",
       "2         1.749183       1.784320         1.819458  0.035137\n",
       "3         1.770618       1.779517         1.788417  0.008899"
      ]
     },
     "execution_count": 37,
     "metadata": {},
     "output_type": "execute_result"
    }
   ],
   "source": [
    "zc = 1.96\n",
    "error4_95 = zc * np.std(mean4) / math.sqrt(4)\n",
    "error16_95 = zc * np.std(mean16) / math.sqrt(16)\n",
    "error64_95 = zc * np.std(mean64) / math.sqrt(64)\n",
    "error256_95 = zc * np.std(mean256) / math.sqrt(256)\n",
    "interval4_95 = [np.mean(mean4) - error4_95, np.mean(mean4), np.mean(mean4) + error4_95, error4_95]\n",
    "interval16_95 = [np.mean(mean16) - error16_95, np.mean(mean16), np.mean(mean16) + error16_95, error16_95]\n",
    "interval64_95 = [np.mean(mean64) - error64_95, np.mean(mean64), np.mean(mean64) + error64_95, error64_95]\n",
    "interval256_95 = [np.mean(mean256) - error256_95, np.mean(mean256), np.mean(mean256) + error256_95, error256_95]\n",
    "intervals_95 = [interval4_95, interval16_95, interval64_95, interval256_95]\n",
    "# Cria dataframe com intervalos e erros\n",
    "df1d = pd.DataFrame(intervals_95, columns=[\"Limite inferior\", \"Valor central\", \"Limite superior\", \"Erro\"])\n",
    "\n",
    "# Salva o dataframe\n",
    "df1c.round(4).to_csv(\"Dados\\Q1d.csv\", encoding='utf-8', index=True)\n",
    "\n",
    "df1d"
   ]
  },
  {
   "cell_type": "code",
   "execution_count": null,
   "metadata": {},
   "outputs": [],
   "source": [
    "fig, ax = plt.subplots(nrows=4, ncols=1, sharex=True, figsize=(13, 19))\n",
    "\n",
    "data = (mean4, mean16, mean64, mean256)\n",
    "\n",
    "for i in range(0,4):\n",
    "    ax[i].vlines(x=range(0,1000), ymin=df[\"Renda\"].mean(), ymax=data[i], alpha=0.4, lw=0.4)\n",
    "    ax[i].scatter(range(0,1000), data[i], s=2, color='black')\n",
    "\n",
    "    ax[i].grid(axis=\"y\", color=default_grid_color)\n",
    "    ax[i].set_xbound((0,1000))\n",
    "    ax[i].set(title=\"Distribuição das médias das amostras de tamanho\" + \" \" + str(4**(1+i)), xlabel=\"Amostra\", ylabel=\"Média da amostra\")\n",
    "\n",
    "    # Insere linnha de média populacional e limites de confiança\n",
    "    ax[i].axhline(y=df[\"Renda\"].mean(), color='black', linestyle='-', lw=2)\n",
    "    ax[i].axhline(y=intervals_95[i][0], color='black', linestyle='--', lw=1)\n",
    "    ax[i].axhline(y=intervals_95[i][2], color='black', linestyle='--', lw=1)\n",
    "\n",
    "    # Insere anotação sobre a linha de média\n",
    "    ax[i].annotate('Média populacional: {:0.3f}'.format(df[\"Renda\"].mean()), xy=(1000, df[\"Renda\"].mean()), xytext=(30, 0),\n",
    "        verticalalignment='center', xycoords=('data', 'data'), textcoords='offset points',\n",
    "        arrowprops=dict(arrowstyle='-|>', fc='black'))\n",
    "\n",
    "    # Insere anotação sobre a linha\n",
    "    ax[i].annotate('Limite inferior do intervalo\\nde confiança (95%): {:0.3f}'.format(intervals_95[i][0]), xy=(1000, intervals_95[i][0]), xytext=(30, -30),\n",
    "        verticalalignment='center', xycoords=('data', 'data'), textcoords='offset points',\n",
    "        arrowprops=dict(arrowstyle='-|>', fc='black'))\n",
    "\n",
    "    # Insere anotação sobre a linha\n",
    "    ax[i].annotate('Limite superior do intervalo\\nde confiança (95%): {:0.3f}'.format(intervals_95[i][2]), xy=(1000, intervals_95[i][2]), xytext=(30, 30),\n",
    "        verticalalignment='center', xycoords=('data', 'data'), textcoords='offset points',\n",
    "        arrowprops=dict(arrowstyle='-|>', fc='black'))\n",
    "\n",
    "# Salva figura na pasta dedicada\n",
    "plt.savefig('Dados\\Q1d.png', bbox_inches='tight', dpi=dpi)"
   ]
  },
  {
   "cell_type": "code",
   "execution_count": null,
   "metadata": {},
   "outputs": [],
   "source": []
  }
 ],
 "metadata": {
  "kernelspec": {
   "display_name": "Python 3",
   "language": "python",
   "name": "python3"
  },
  "language_info": {
   "codemirror_mode": {
    "name": "ipython",
    "version": 3
   },
   "file_extension": ".py",
   "mimetype": "text/x-python",
   "name": "python",
   "nbconvert_exporter": "python",
   "pygments_lexer": "ipython3",
   "version": "3.5.3"
  }
 },
 "nbformat": 4,
 "nbformat_minor": 2
}
