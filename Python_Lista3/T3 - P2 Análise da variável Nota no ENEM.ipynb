{
 "cells": [
  {
   "cell_type": "code",
   "execution_count": null,
   "metadata": {},
   "outputs": [],
   "source": [
    "import matplotlib.pyplot as plt\n",
    "import pandas as pd\n",
    "import numpy as np\n",
    "import math\n",
    "import seaborn as sns\n",
    "from scipy import stats\n",
    "from statsmodels.stats import power\n",
    "\n",
    "dpi=400\n",
    "default_hatch_patterns = [\"o\" , \"x\", \".\" , \"*\" , \".\" , \"\\\\\" , \"O\", \".\", \"*\"]\n",
    "default_color = \"0.80\"\n",
    "default_box_width = 14\n",
    "default_box_marker = \"|\"\n",
    "default_box_marker_size = 20\n",
    "default_box_marker_alpha = 0.8\n",
    "default_grid_color = \"0.8\"\n",
    "df = pd.read_csv(\"TYU07_corrigido.csv\").drop('Unnamed: 0', axis=1)"
   ]
  },
  {
   "cell_type": "code",
   "execution_count": null,
   "metadata": {},
   "outputs": [],
   "source": [
    "def draw_t_score(t_sample, alpha, dfreedom, direction, title):\n",
    "    \n",
    "    if direction == \"<\":\n",
    "        tc = stats.t.ppf(alpha, dfreedom)\n",
    "    elif direction == \">\":\n",
    "        tc = stats.t.ppf(1 - alpha, dfreedom)\n",
    "    else:\n",
    "        alpha = alpha/2\n",
    "        tc = stats.t.ppf(1 - alpha, dfreedom)\n",
    "    \n",
    "    lim = math.ceil(max(3, abs(t_sample) + 1))\n",
    "    x = np.arange(-lim, lim, 0.001)\n",
    "    y = stats.t.pdf(x, dfreedom) #stats.norm.pdf(x, 0, 1)\n",
    "    if direction == \"<\":\n",
    "        t = x[x < tc]\n",
    "    elif direction == \">\":\n",
    "        t = x[x > tc]\n",
    "    else:\n",
    "        t = x[x < -tc]\n",
    "        t2 = x[x > tc]\n",
    "        \n",
    "    fig, ax = plt.subplots(figsize=(7,4))    \n",
    "    ax.plot(x, y, color='black', lw=0.8)\n",
    "    ax.fill_between(t, 0, stats.t.pdf(t, dfreedom), facecolor='0.7')\n",
    "    if direction != \"<\" and direction != \">\":\n",
    "        ax.fill_between(t2, 0, stats.t.pdf(t2, dfreedom), facecolor='0.7')        \n",
    "\n",
    "    ax.set(xbound =(-lim, lim), ybound = (0,0.5))\n",
    "    \n",
    "    # Insere anotação sobre a linha de t do sample\n",
    "    ax.annotate('t_sample = {:0.3f}'.format(t_sample), xy=(t_sample, 0), xytext=(0, 25),\n",
    "            xycoords=('data', 'axes fraction'), textcoords='offset points', horizontalalignment=\"center\", verticalalignment='bottom',\n",
    "            arrowprops=dict(arrowstyle='-|>', fc='black', shrinkA=0, shrinkB=0), bbox=dict(boxstyle=\"round\", alpha=0.7, fc='white'))\n",
    "    \n",
    "    # Insere anotação sobre a linha de t critico\n",
    "    ax.annotate('t_c = ' + str(round(tc,3)) + '\\nα = ' + str(alpha), xy=(tc, 0), xytext=(0, -25),\n",
    "            xycoords=('data', 'axes fraction'), textcoords='offset points', horizontalalignment=\"center\", verticalalignment='top',\n",
    "            arrowprops=dict(arrowstyle='-|>', fc='black', shrinkA=0, shrinkB=0), bbox=dict(boxstyle=\"round\", alpha=0.7, fc='white'))    \n",
    "    \n",
    "    if direction != \"<\" and direction != \">\":\n",
    "        # Insere anotação sobre a linha de t critico\n",
    "        ax.annotate('-t_c = ' + str(round(-tc,3)) + '\\nα = ' + str(alpha), xy=(-tc, 0), xytext=(0, -25),\n",
    "                xycoords=('data', 'axes fraction'), textcoords='offset points', horizontalalignment=\"center\", verticalalignment='top',\n",
    "                arrowprops=dict(arrowstyle='-|>', fc='black', shrinkA=0, shrinkB=0), bbox=dict(boxstyle=\"round\", alpha=0.7, fc='white'))    \n",
    "    "
   ]
  },
  {
   "cell_type": "markdown",
   "metadata": {},
   "source": [
    "# Segunda parte – Análise da variável Nota no ENEM"
   ]
  },
  {
   "cell_type": "markdown",
   "metadata": {},
   "source": [
    "## Questão 2\n",
    "Há uma grande preocupação em estimar o comportamento da variável Nota no ENEM dos alunos, de maneira a caracterizar melhor seu o perfil. Alguém da universidade sugeriu que você retirasse uma amostra de 25 alunos e registrasse os valores de Nota no ENEM3. Considere que a variância populacional de Nota no ENEM é DESCONHECIDA. Com base nos resultados encontrados responda os itens a seguir (lembre-se de excluir inicialmente as linhas com dados perdidos)."
   ]
  },
  {
   "cell_type": "markdown",
   "metadata": {},
   "source": [
    "### 2.a) Construa um gráfico de probabilidade normal para os valores da amostra."
   ]
  },
  {
   "cell_type": "code",
   "execution_count": null,
   "metadata": {},
   "outputs": [],
   "source": [
    "# Define os dados para trabalhar na parte 2\n",
    "N = 25\n",
    "dfreedom = N - 1\n",
    "\n",
    "# Garante que sempre serão gerados os mesmos números aleatórios\n",
    "np.random.seed(0)\n",
    "\n",
    "# Retira 25 samples da nota enem\n",
    "sampleENEM = np.random.choice(df[\"Nota ENEM\"].dropna().tolist(), N)\n",
    "\n",
    "# Salva os samples em um .csv com ajuda do pandas dataframe\n",
    "pd.DataFrame(sampleENEM, columns=[\"Amostras da nota ENEM\"]).to_csv(\"Dados\\Q2_samples.csv\", encoding='utf-8', index=False)\n",
    "\n",
    "sample_mean = np.mean(sampleENEM)\n",
    "sample_std = np.std(sampleENEM)"
   ]
  },
  {
   "cell_type": "code",
   "execution_count": null,
   "metadata": {
    "scrolled": true
   },
   "outputs": [],
   "source": [
    "fig, ax = plt.subplots(figsize=(6,6))\n",
    "plot = stats.probplot(sampleENEM, plot=ax)\n",
    "ax.set(title=\"Gráfico de probabilidade normal da amostra da variável ENEM\")\n",
    "ax.set(xlabel=\"Quantis\", ylabel=\"Nota\")\n",
    "ax.grid(color=default_grid_color)\n",
    "\n",
    "# Seleciona os pontos\n",
    "ax.get_lines()[0].set(color = 'black', markersize=10)\n",
    "# Seleciona a linha de tendencia\n",
    "ax.get_lines()[1].set(color = 'black', ls = 'dashed')\n",
    "\n",
    "# Insere informação adicional (caixa)\n",
    "ax.text(-1.5, 650, \"Assimetria: \" + str(round(stats.skew(sampleENEM),3)) + \"\\nCurtose: \" + str(round(stats.kurtosis(sampleENEM),3)), va=\"center\", ha=\"left\",\n",
    "        bbox=dict(boxstyle=\"round\", alpha=1, fc='white'))\n",
    "\n",
    "# Salva figura na pasta dedicada\n",
    "plt.savefig('Dados\\Q2a.png', bbox_inches='tight', dpi=dpi)"
   ]
  },
  {
   "cell_type": "markdown",
   "metadata": {},
   "source": [
    "### 2.a.1 - É possível considerar que os dados provêm de uma população com distribuição normal? JUSTIFIQUE."
   ]
  },
  {
   "cell_type": "markdown",
   "metadata": {},
   "source": [
    "Com base no grafico anterior ou analisando os dados da populaçao?"
   ]
  },
  {
   "cell_type": "markdown",
   "metadata": {},
   "source": [
    "### 2.a.2 – Com base na resposta da letra a.1 você recomendaria a utilização de técnicas como Intervalo de confiança e teste paramétrico de média? JUSTIFIQUE."
   ]
  },
  {
   "cell_type": "markdown",
   "metadata": {},
   "source": [
    "Ver depois (utilizar teste t)"
   ]
  },
  {
   "cell_type": "markdown",
   "metadata": {},
   "source": [
    "### 2.b) Independente dos resultados da letra a), encontre o intervalo de 95% de confiança para a média populacional. Interprete o resultado."
   ]
  },
  {
   "cell_type": "code",
   "execution_count": null,
   "metadata": {
    "scrolled": true
   },
   "outputs": [],
   "source": [
    "# Encontra os intervalos de confiança t para alpha=0.05 e seleciona o positivo\n",
    "tc = stats.t.ppf(q = 1-alpha/2, df = dfreedom)\n",
    "\n",
    "# Calcula a margem de erro a partir do valor t de 95% de confiança\n",
    "tc = stats.t.interval(0.95, dfreedom)[1] # Calcula o t crítico para 95% de confiança\n",
    "error_95 = tc * sample_std / math.sqrt(N) # Calcula o erro para 95% de confiança\n",
    "lim_inf = sample_mean - error_95\n",
    "mean = sample_mean\n",
    "lim_sup = sample_mean + error_95\n",
    "print(\"Para o indíce de confiança de 95%, foi encontrado um erro de {0:.2f} sobre a média amostral {1:.2f}, produzindo um intervalo de {2:.2f} a {3:.2f} com tc = {4:.3f}\".format(\n",
    "        error_95, mean, lim_inf, lim_sup, tc))"
   ]
  },
  {
   "cell_type": "markdown",
   "metadata": {},
   "source": [
    "### 2.c) Independente dos resultados da letra a), qual seria o tamanho mínimo de amostra necessário para obter um intervalo de 95% de confiança para a média populacional da Nota no ENEM, com uma precisão de 5 pontos? A amostra coletada é suficiente? JUSTIFIQUE."
   ]
  },
  {
   "cell_type": "code",
   "execution_count": null,
   "metadata": {
    "scrolled": true
   },
   "outputs": [],
   "source": [
    "# Encontra os intervalos de confiança t para alpha=0.05 e seleciona o positivo\n",
    "tc = stats.t.interval(0.95, dfreedom)[1] # Calcula o t crítico para 5% de significância\n",
    "N_pop = df[\"Nota ENEM\"].count() # Calcula o tamanho da população\n",
    "n_zero = ((tc * sample_std) / 5)**2 # Cálculo do tamanho mínimo de amostra\n",
    "n_corr = (N_pop * n_zero) / (N_pop + n_zero) # Correção de tamanho de amostra\n",
    "print(\"O tamanho mínimo de intervalo é de \" + str(math.ceil(n_corr)) + \" amostras.\")"
   ]
  },
  {
   "cell_type": "markdown",
   "metadata": {},
   "source": [
    "### d) Independente dos resultados da letra a), a direção da TYU acredita que a média de Nota no ENEM dos alunos é maior do que 450 pontos, por pesquisas anteriores. Aplicando o teste estatístico apropriado, os dados confirmam isso, a 5% de significância? JUSTIFIQUE."
   ]
  },
  {
   "cell_type": "markdown",
   "metadata": {},
   "source": [
    "Vamos utilizar o teste t (justificar)\n",
    "\n",
    "H0: Nota ENEM = 450\n",
    "\n",
    "H1: Nota ENEM >  450\n",
    "\n",
    "Alpha = 5% (cauda direita)"
   ]
  },
  {
   "cell_type": "code",
   "execution_count": null,
   "metadata": {},
   "outputs": [],
   "source": [
    "alpha = 0.05\n",
    "hyp_mean = 450\n",
    "tc = stats.t.ppf(1-alpha, dfreedom) # Calcula t crítico para 5 de significancia\n",
    "t = (sample_mean - hyp_mean)/(sample_std/math.sqrt(dfreedom)) # Calcula valor t da amostra\n",
    "p = 1 - stats.t.cdf(t, df=dfreedom) # Calcula o valor-p"
   ]
  },
  {
   "cell_type": "code",
   "execution_count": null,
   "metadata": {},
   "outputs": [],
   "source": [
    "print(\"Como o valor p {0} é menor que o índice de significância (alpha) para esta situação ({1}), a suposição H0 de que a nota do enem não é superior a 450 é rejeitada. Portanto, é possível dizer com confiança de 95% que a média da nota do ENEM é superior a 450 pontos.\".format(round(p,4),round(alpha,4)))"
   ]
  },
  {
   "cell_type": "code",
   "execution_count": null,
   "metadata": {
    "scrolled": true
   },
   "outputs": [],
   "source": [
    "draw_t_score(t_sample = t, alpha=alpha, dfreedom = dfreedom, direction = '>', title = 't')\n",
    "\n",
    "# Salva figura na pasta dedicada\n",
    "plt.savefig('Dados\\Q2d.png', bbox_inches='tight', dpi=dpi)"
   ]
  },
  {
   "cell_type": "markdown",
   "metadata": {},
   "source": [
    "### e) Analise o intervalo de confiança da letra b). Os limites encontrados corroboram os resultados encontrados na letra d)? JUSTIFIQUE."
   ]
  },
  {
   "cell_type": "code",
   "execution_count": null,
   "metadata": {},
   "outputs": [],
   "source": [
    "print(\"Sim, como há 95% de certeza que a média se encontra entre {0} e {1}, a afirmação de que a média está acima de 450 pontos faz sentido também.\".format(round(interval_95[0],2), round(interval_95[2],2)))"
   ]
  },
  {
   "cell_type": "markdown",
   "metadata": {},
   "source": [
    "### f) Independente dos resultados da letra a), suponha 5% de significância e o desvio padrão amostral como boa estimativa do desvio padrão populacional. Se a média real da Nota no ENEM fosse de 470 pontos, qual seria o poder do teste? Você acha o valor aceitável? JUSTIFIQUE."
   ]
  },
  {
   "cell_type": "markdown",
   "metadata": {},
   "source": [
    "H0: Nota ENEM <= 450\n",
    "\n",
    "H1: Nota ENEM > 450"
   ]
  },
  {
   "cell_type": "code",
   "execution_count": null,
   "metadata": {},
   "outputs": [],
   "source": [
    "alpha = 0.05\n",
    "hyp_mean = 450\n",
    "pop_mean = 470\n",
    "pop_std = sample_std\n",
    "dist_std = (pop_mean-hyp_mean)/pop_std\n",
    "poder = power.tt_solve_power(effect_size=abs(dist_std), nobs=N, alpha=alpha, alternative='larger')\n",
    "print(\"Distância entre média real e média testada: 20\\nDesvio padrão populacional estimado: {0:.2f}\\nDistância em desvio padrão: {1:.4f}\".format(pop_std, dist_std))\n",
    "print(\"Poder do teste: \" + str(round(poder, 3)))"
   ]
  },
  {
   "cell_type": "markdown",
   "metadata": {},
   "source": [
    "### g) Independente dos resultados da letra a), qual deveria ser o tamanho mínimo de amostra para detectar com 95% de probabilidade que a média da Nota no ENEM dos alunos é igual a 470 pontos. Suponha 5% de significância e o desvio padrão amostral como boa estimativa do desvio padrão populacional. A amostra coletada é suficiente? JUSTIFIQUE."
   ]
  },
  {
   "cell_type": "code",
   "execution_count": null,
   "metadata": {},
   "outputs": [],
   "source": [
    "# n_min = power.tt_solve_power(effect_size=abs(dist_std), alpha=0.05, power=0.95)\n",
    "# print(\"Para detectar com 95% de probabilidade que a média da nota ENEM é 470, significa rejeitar a hipótese de que a média é 450 com 95% de probabilidade quando a média real é 470\")\n",
    "# print(\"Número mínimo de amostras: \" + str(math.ceil(n_min)))"
   ]
  },
  {
   "cell_type": "code",
   "execution_count": null,
   "metadata": {},
   "outputs": [],
   "source": []
  }
 ],
 "metadata": {
  "kernelspec": {
   "display_name": "Python 3",
   "language": "python",
   "name": "python3"
  },
  "language_info": {
   "codemirror_mode": {
    "name": "ipython",
    "version": 3
   },
   "file_extension": ".py",
   "mimetype": "text/x-python",
   "name": "python",
   "nbconvert_exporter": "python",
   "pygments_lexer": "ipython3",
   "version": "3.6.5"
  }
 },
 "nbformat": 4,
 "nbformat_minor": 2
}
