{
 "cells": [
  {
   "cell_type": "code",
   "execution_count": 1,
   "metadata": {},
   "outputs": [],
   "source": [
    "import matplotlib.pyplot as plt\n",
    "import pandas as pd\n",
    "import numpy as np\n",
    "import math\n",
    "import random\n",
    "import seaborn as sns\n",
    "from scipy import stats\n",
    "\n",
    "dpi=400\n",
    "default_hatch_patterns = [\"o\" , \"x\", \".\" , \"*\" , \".\" , \"\\\\\" , \"O\", \".\", \"*\"]\n",
    "default_color = \"0.80\"\n",
    "default_box_width = 14\n",
    "default_box_marker = \"|\"\n",
    "default_box_marker_size = 20\n",
    "default_box_marker_alpha = 0.8\n",
    "default_grid_color = \"0.8\"\n",
    "df = pd.read_csv(\"TYU07_corrigido.csv\").drop('Unnamed: 0', axis=1)"
   ]
  },
  {
   "cell_type": "markdown",
   "metadata": {},
   "source": [
    "# Quarta parte – Análise da variável Renda em função da variável Opinião"
   ]
  },
  {
   "cell_type": "markdown",
   "metadata": {},
   "source": [
    "## Questão 4\n",
    "Há interesse em avaliar a Renda dos alunos em função da sua Opinião sobre o curso. Mas contrariando a prática usual resolveu-se agrupar os valores de Opinião, criando uma nova variável OpiniãoC, na qual os valores Muito insatisfeito, Insatisfeito e Indiferente passarão a ser INSATISFEITO e os valores Satisfeito e Muito satisfeito passarão a ser SATISFEITO."
   ]
  },
  {
   "cell_type": "code",
   "execution_count": 2,
   "metadata": {},
   "outputs": [],
   "source": [
    "df[\"OpiniãoC\"] = df[\"Opinião\"].apply(lambda x: \"SATISFEITO\" if (x == \"Satisfeito\" or x == \"Muito satisfeito\") else \"INSATISFEITO\")"
   ]
  },
  {
   "cell_type": "markdown",
   "metadata": {},
   "source": [
    "### b) Classifique o arquivo de dados em função dos valores de OpiniãoC5."
   ]
  },
  {
   "cell_type": "markdown",
   "metadata": {},
   "source": [
    "### c) Retire uma amostra aleatória de 15 rendas de alunos com OpiniãoC INSATISFEITO."
   ]
  },
  {
   "cell_type": "markdown",
   "metadata": {},
   "source": [
    "### d) Retire uma amostra aleatória de 15 rendas de alunos com OpiniãoC SATISFEITO."
   ]
  },
  {
   "cell_type": "code",
   "execution_count": 34,
   "metadata": {},
   "outputs": [
    {
     "data": {
      "text/html": [
       "<div>\n",
       "<style scoped>\n",
       "    .dataframe tbody tr th:only-of-type {\n",
       "        vertical-align: middle;\n",
       "    }\n",
       "\n",
       "    .dataframe tbody tr th {\n",
       "        vertical-align: top;\n",
       "    }\n",
       "\n",
       "    .dataframe thead th {\n",
       "        text-align: right;\n",
       "    }\n",
       "</style>\n",
       "<table border=\"1\" class=\"dataframe\">\n",
       "  <thead>\n",
       "    <tr style=\"text-align: right;\">\n",
       "      <th></th>\n",
       "      <th>Insatisfeito</th>\n",
       "      <th>Satisfeito</th>\n",
       "    </tr>\n",
       "  </thead>\n",
       "  <tbody>\n",
       "    <tr>\n",
       "      <th>count</th>\n",
       "      <td>15.000000</td>\n",
       "      <td>15.000000</td>\n",
       "    </tr>\n",
       "    <tr>\n",
       "      <th>mean</th>\n",
       "      <td>2.572000</td>\n",
       "      <td>1.261333</td>\n",
       "    </tr>\n",
       "    <tr>\n",
       "      <th>std</th>\n",
       "      <td>1.181393</td>\n",
       "      <td>0.432647</td>\n",
       "    </tr>\n",
       "    <tr>\n",
       "      <th>min</th>\n",
       "      <td>1.180000</td>\n",
       "      <td>1.000000</td>\n",
       "    </tr>\n",
       "    <tr>\n",
       "      <th>25%</th>\n",
       "      <td>1.960000</td>\n",
       "      <td>1.030000</td>\n",
       "    </tr>\n",
       "    <tr>\n",
       "      <th>50%</th>\n",
       "      <td>2.130000</td>\n",
       "      <td>1.100000</td>\n",
       "    </tr>\n",
       "    <tr>\n",
       "      <th>75%</th>\n",
       "      <td>2.775000</td>\n",
       "      <td>1.330000</td>\n",
       "    </tr>\n",
       "    <tr>\n",
       "      <th>max</th>\n",
       "      <td>4.930000</td>\n",
       "      <td>2.720000</td>\n",
       "    </tr>\n",
       "  </tbody>\n",
       "</table>\n",
       "</div>"
      ],
      "text/plain": [
       "       Insatisfeito  Satisfeito\n",
       "count     15.000000   15.000000\n",
       "mean       2.572000    1.261333\n",
       "std        1.181393    0.432647\n",
       "min        1.180000    1.000000\n",
       "25%        1.960000    1.030000\n",
       "50%        2.130000    1.100000\n",
       "75%        2.775000    1.330000\n",
       "max        4.930000    2.720000"
      ]
     },
     "execution_count": 34,
     "metadata": {},
     "output_type": "execute_result"
    }
   ],
   "source": [
    "N = 15\n",
    "dfreedom = N - 1\n",
    "\n",
    "df_sampleInsatisfeito = df[df[\"OpiniãoC\"] == \"INSATISFEITO\"].sample(n=N)\n",
    "# df_sampleInsatisfeito\n",
    "df_sampleSatisfeito = df[df[\"OpiniãoC\"] == \"SATISFEITO\"].sample(n=N)\n",
    "# df_sampleSatisfeito\n",
    "df_sample = pd.DataFrame()\n",
    "df_sample[\"Insatisfeito\"] = df_sampleInsatisfeito[\"Renda\"].tolist()\n",
    "df_sample[\"Satisfeito\"] = df_sampleSatisfeito[\"Renda\"].tolist()\n",
    "df_sample.describe()"
   ]
  },
  {
   "cell_type": "markdown",
   "metadata": {},
   "source": [
    "### e) SUPONHA que as rendas são provenientes de uma distribuição normal, e que as variâncias populacionais são DESCONHECIDAS."
   ]
  },
  {
   "cell_type": "markdown",
   "metadata": {},
   "source": [
    "### e.1 – Obtenha os intervalos de 95% de confiança para as médias das rendas com OpiniãoC INSATISFEITO e SATISFEITO. Interprete os resultados."
   ]
  },
  {
   "cell_type": "code",
   "execution_count": 33,
   "metadata": {},
   "outputs": [
    {
     "name": "stdout",
     "output_type": "stream",
     "text": [
      "Para o indíce de confiança de 95% sobre as amostras de alunos satisfeios, foi encontrado um erro de 0.09 sobre a média amostral 1.2, produzindo um intervalo de 1.11 a 1.29\n",
      "Para o indíce de confiança de 95% sobre as amostras de alunos insatisfeios, foi encontrado um erro de 0.33 sobre a média amostral 1.84, produzindo um intervalo de 1.51 a 2.17\n"
     ]
    }
   ],
   "source": [
    "# Calcula parâmetros amostrais (média e desvio padrão)\n",
    "sample_sa_mean = df_sample[\"Satisfeito\"].mean()\n",
    "sample_sa_std = df_sample[\"Satisfeito\"].std()\n",
    "sample_in_mean = df_sample[\"Insatisfeito\"].mean()\n",
    "sample_in_std = df_sample[\"Insatisfeito\"].std()\n",
    "\n",
    "# Calcula os intervalos de confiança\n",
    "tc = stats.t.ppf(0.975, dfreedom)\n",
    "error_sa = tc * sample_sa_std / math.sqrt(N)\n",
    "error_in = tc * sample_in_std / math.sqrt(N)\n",
    "interval_sa = (sample_sa_mean - error_sa, sample_sa_mean, sample_sa_mean + error_sa)\n",
    "interval_in = (sample_in_mean - error_in, sample_in_mean, sample_in_mean + error_in)\n",
    "\n",
    "print(\"Para o indíce de confiança de 95% sobre as amostras de alunos satisfeios, foi encontrado um erro de {0} sobre a média amostral {1}, produzindo um intervalo de {2} a {3}\".format(\n",
    "        round(error_sa,2), round(interval_sa[1],2), round(interval_sa[0],2), round(interval_sa[2],2)))\n",
    "print(\"Para o indíce de confiança de 95% sobre as amostras de alunos insatisfeios, foi encontrado um erro de {0} sobre a média amostral {1}, produzindo um intervalo de {2} a {3}\".format(\n",
    "        round(error_in,2), round(interval_in[1],2), round(interval_in[0],2), round(interval_in[2],2)))"
   ]
  },
  {
   "cell_type": "markdown",
   "metadata": {},
   "source": [
    "### e.2 – Com base nos resultados do item e.1 há evidência de que as médias das rendas são diferentes entre alunos com OpiniãoC INSATISFEITO e SATISFEITO? JUSTIFIQUE."
   ]
  },
  {
   "cell_type": "markdown",
   "metadata": {},
   "source": [
    "Há sim"
   ]
  },
  {
   "cell_type": "markdown",
   "metadata": {},
   "source": [
    "### e.3 – Aplique o teste de hipóteses apropriado e verifique se há indicação de diferença entre as variâncias de rendas de alunos com OpiniãoC INSATISFEITO e SATISFEITO. Use 5% de significância."
   ]
  },
  {
   "cell_type": "markdown",
   "metadata": {},
   "source": [
    "H0: Variância dos dois grupos são iguais\n",
    "    \n",
    "H1: Variância dos dois grupos são diferentes\n",
    "\n",
    "Alpha = 0.05"
   ]
  },
  {
   "cell_type": "markdown",
   "metadata": {},
   "source": [
    "# ainda não sei fazer"
   ]
  },
  {
   "cell_type": "markdown",
   "metadata": {},
   "source": [
    "### e.4 – Com base nos resultados do item e.3, aplique o teste de hipóteses apropriado e verifique se há evidência de que as médias das rendas são diferentes entre alunos com OpiniãoC INSATIFEITO e SATISFEITO. Use 5% de significância."
   ]
  },
  {
   "cell_type": "code",
   "execution_count": null,
   "metadata": {},
   "outputs": [],
   "source": []
  },
  {
   "cell_type": "markdown",
   "metadata": {},
   "source": [
    "### e.5 – Compare os resultados dos itens e.2 e e.4. Eles chegam à mesma conclusão sobre a diferença entre as médias? JUSTIFIQUE."
   ]
  },
  {
   "cell_type": "code",
   "execution_count": null,
   "metadata": {},
   "outputs": [],
   "source": []
  },
  {
   "cell_type": "markdown",
   "metadata": {},
   "source": [
    "### e.6 – Calcule o poder do teste para as seguintes diferenças entre as médias das rendas (em desvios padrões) dos alunos com OpiniãoC INSATISFEITO e SATISFEITO:\n",
    "### -3 -2,5 -2 -1,5 -1 -0,5 0,5 1,0 1,5 2 2,5 3\n",
    "### Use 5% de significância. Use como estimativa do desvio padrão populacional o desvio agrupado calculado a partir dos desvios padrões e tamanho de cada subgrupo no teste de diferença de médias do item e.4."
   ]
  },
  {
   "cell_type": "code",
   "execution_count": null,
   "metadata": {},
   "outputs": [],
   "source": []
  },
  {
   "cell_type": "markdown",
   "metadata": {},
   "source": [
    "### e.7 – Repita o item e.6 para tamanhos de amostra 20, 30 e 60 elementos em cada grupo, supondo que o desvio padrão agrupado permanece o mesmo). Construa um gráfico com os valores de média e poder do teste para os diferentes tamanhos de amostra (curva característica de operação). Analise os resultados e recomende qual seria o tamanho de amostra mais apropriado conciliando poder do teste e economia na amostragem. JUSTIFIQUE."
   ]
  },
  {
   "cell_type": "code",
   "execution_count": null,
   "metadata": {},
   "outputs": [],
   "source": []
  }
 ],
 "metadata": {
  "kernelspec": {
   "display_name": "Python 3",
   "language": "python",
   "name": "python3"
  },
  "language_info": {
   "codemirror_mode": {
    "name": "ipython",
    "version": 3
   },
   "file_extension": ".py",
   "mimetype": "text/x-python",
   "name": "python",
   "nbconvert_exporter": "python",
   "pygments_lexer": "ipython3",
   "version": "3.6.4"
  }
 },
 "nbformat": 4,
 "nbformat_minor": 2
}
