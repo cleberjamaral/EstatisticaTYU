{
 "cells": [
  {
   "cell_type": "code",
   "execution_count": 1,
   "metadata": {},
   "outputs": [],
   "source": [
    "import matplotlib.pyplot as plt\n",
    "import pandas as pd\n",
    "import numpy as np\n",
    "import math\n",
    "import random\n",
    "import seaborn as sns\n",
    "from scipy import stats\n",
    "from statsmodels.stats import power\n",
    "\n",
    "dpi=400\n",
    "default_hatch_patterns = [\"o\" , \"x\", \".\" , \"*\" , \".\" , \"\\\\\" , \"O\", \".\", \"*\"]\n",
    "default_color = \"0.80\"\n",
    "default_box_width = 14\n",
    "default_box_marker = \"|\"\n",
    "default_box_marker_size = 20\n",
    "default_box_marker_alpha = 0.8\n",
    "default_grid_color = \"0.8\"\n",
    "df = pd.read_csv(\"TYU07_corrigido.csv\").drop('Unnamed: 0', axis=1)"
   ]
  },
  {
   "cell_type": "markdown",
   "metadata": {},
   "source": [
    "# Quarta parte – Análise da variável Renda em função da variável Opinião"
   ]
  },
  {
   "cell_type": "markdown",
   "metadata": {},
   "source": [
    "## Questão 4\n",
    "Há interesse em avaliar a Renda dos alunos em função da sua Opinião sobre o curso. Mas contrariando a prática usual resolveu-se agrupar os valores de Opinião, criando uma nova variável OpiniãoC, na qual os valores Muito insatisfeito, Insatisfeito e Indiferente passarão a ser INSATISFEITO e os valores Satisfeito e Muito satisfeito passarão a ser SATISFEITO."
   ]
  },
  {
   "cell_type": "code",
   "execution_count": 2,
   "metadata": {},
   "outputs": [],
   "source": [
    "df[\"OpiniãoC\"] = df[\"Opinião\"].apply(lambda x: \"SATISFEITO\" if (x == \"Satisfeito\" or x == \"Muito satisfeito\") else \"INSATISFEITO\")"
   ]
  },
  {
   "cell_type": "markdown",
   "metadata": {},
   "source": [
    "### b) Classifique o arquivo de dados em função dos valores de OpiniãoC5.\n",
    "Não é necessário"
   ]
  },
  {
   "cell_type": "markdown",
   "metadata": {},
   "source": [
    "### c) Retire uma amostra aleatória de 15 rendas de alunos com OpiniãoC INSATISFEITO.\n",
    "Feito a seguir"
   ]
  },
  {
   "cell_type": "markdown",
   "metadata": {},
   "source": [
    "### d) Retire uma amostra aleatória de 15 rendas de alunos com OpiniãoC SATISFEITO."
   ]
  },
  {
   "cell_type": "code",
   "execution_count": 3,
   "metadata": {
    "scrolled": true
   },
   "outputs": [],
   "source": [
    "# N = 15\n",
    "\n",
    "# # Garante que sempre serão gerados os mesmos números aleatórios\n",
    "# np.random.seed(0)\n",
    "\n",
    "# # Insere os samples num dataframe\n",
    "# df_sample = pd.DataFrame()\n",
    "\n",
    "# # Retira 15 samples de opiniões insatisfeitas\n",
    "# df_sample[\"Insatisfeito\"] = np.random.choice(df[df[\"OpiniãoC\"] == \"INSATISFEITO\"][\"Renda\"].dropna().tolist(), N)\n",
    "\n",
    "# # Retira 15 samples de opiniões satisfeitas\n",
    "# df_sample[\"Satisfeito\"] = np.random.choice(df[df[\"OpiniãoC\"] == \"SATISFEITO\"][\"Renda\"].dropna().tolist(), N)\n",
    "\n",
    "# df_sample.describe()"
   ]
  },
  {
   "cell_type": "code",
   "execution_count": 4,
   "metadata": {
    "scrolled": true
   },
   "outputs": [
    {
     "data": {
      "text/html": [
       "<div>\n",
       "<style scoped>\n",
       "    .dataframe tbody tr th:only-of-type {\n",
       "        vertical-align: middle;\n",
       "    }\n",
       "\n",
       "    .dataframe tbody tr th {\n",
       "        vertical-align: top;\n",
       "    }\n",
       "\n",
       "    .dataframe thead th {\n",
       "        text-align: right;\n",
       "    }\n",
       "</style>\n",
       "<table border=\"1\" class=\"dataframe\">\n",
       "  <thead>\n",
       "    <tr style=\"text-align: right;\">\n",
       "      <th></th>\n",
       "      <th>Insatisfeito</th>\n",
       "      <th>Satisfeito</th>\n",
       "    </tr>\n",
       "  </thead>\n",
       "  <tbody>\n",
       "    <tr>\n",
       "      <th>count</th>\n",
       "      <td>15.000000</td>\n",
       "      <td>15.000000</td>\n",
       "    </tr>\n",
       "    <tr>\n",
       "      <th>mean</th>\n",
       "      <td>2.367333</td>\n",
       "      <td>1.379333</td>\n",
       "    </tr>\n",
       "    <tr>\n",
       "      <th>std</th>\n",
       "      <td>0.945648</td>\n",
       "      <td>0.463303</td>\n",
       "    </tr>\n",
       "    <tr>\n",
       "      <th>min</th>\n",
       "      <td>1.120000</td>\n",
       "      <td>1.010000</td>\n",
       "    </tr>\n",
       "    <tr>\n",
       "      <th>25%</th>\n",
       "      <td>1.790000</td>\n",
       "      <td>1.090000</td>\n",
       "    </tr>\n",
       "    <tr>\n",
       "      <th>50%</th>\n",
       "      <td>2.190000</td>\n",
       "      <td>1.240000</td>\n",
       "    </tr>\n",
       "    <tr>\n",
       "      <th>75%</th>\n",
       "      <td>2.640000</td>\n",
       "      <td>1.365000</td>\n",
       "    </tr>\n",
       "    <tr>\n",
       "      <th>max</th>\n",
       "      <td>4.590000</td>\n",
       "      <td>2.500000</td>\n",
       "    </tr>\n",
       "  </tbody>\n",
       "</table>\n",
       "</div>"
      ],
      "text/plain": [
       "       Insatisfeito  Satisfeito\n",
       "count     15.000000   15.000000\n",
       "mean       2.367333    1.379333\n",
       "std        0.945648    0.463303\n",
       "min        1.120000    1.010000\n",
       "25%        1.790000    1.090000\n",
       "50%        2.190000    1.240000\n",
       "75%        2.640000    1.365000\n",
       "max        4.590000    2.500000"
      ]
     },
     "execution_count": 4,
     "metadata": {},
     "output_type": "execute_result"
    }
   ],
   "source": [
    "N = 15\n",
    "\n",
    "# Garante que sempre serão gerados os mesmos números aleatórios\n",
    "seed = 2\n",
    "\n",
    "# Retira 15 samples de opiniões insatisfeitas\n",
    "df_sampleInsatisfeito = df[df[\"OpiniãoC\"] == \"INSATISFEITO\"].sample(n=N, random_state=seed)\n",
    "# Grava a tabela em um arquivo csv\n",
    "df_sampleInsatisfeito.to_csv(\"Dados\\Q4_insatisfeitos_completo.csv\", encoding='utf-8', index=True)\n",
    "\n",
    "# Retira 15 samples de opiniões satisfeitas\n",
    "df_sampleSatisfeito = df[df[\"OpiniãoC\"] == \"SATISFEITO\"].sample(n=N, random_state=seed)\n",
    "# Grava a tabela em um arquivo csv\n",
    "df_sampleSatisfeito.to_csv(\"Dados\\Q4_satisfeitos_completo.csv\", encoding='utf-8', index=True)\n",
    "\n",
    "# Insere os samples num dataframe\n",
    "df_sample = pd.DataFrame()\n",
    "df_sample[\"Insatisfeito\"] = df_sampleInsatisfeito[\"Renda\"].tolist()\n",
    "df_sample[\"Satisfeito\"] = df_sampleSatisfeito[\"Renda\"].tolist()\n",
    "\n",
    "# Grava a tabela em um arquivo csv\n",
    "df_sample.to_csv(\"Dados\\Q4_comparacao_de_renda.csv\", encoding='utf-8', index=True)\n",
    "df_sample.describe().to_csv(\"Dados\\Q4_comparacao_de_renda_sumario.csv\", encoding='utf-8', index=True)\n",
    "\n",
    "df_sample.describe()"
   ]
  },
  {
   "cell_type": "markdown",
   "metadata": {},
   "source": [
    "### e) SUPONHA que as rendas são provenientes de uma distribuição normal, e que as variâncias populacionais são DESCONHECIDAS."
   ]
  },
  {
   "cell_type": "markdown",
   "metadata": {},
   "source": [
    "### e.1 – Obtenha os intervalos de 95% de confiança para as médias das rendas com OpiniãoC INSATISFEITO e SATISFEITO. Interprete os resultados."
   ]
  },
  {
   "cell_type": "code",
   "execution_count": 5,
   "metadata": {},
   "outputs": [
    {
     "name": "stdout",
     "output_type": "stream",
     "text": [
      "Para o indíce de confiança de 95% sobre as amostras de alunos satisfeios, foi encontrado um erro de 0.26 sobre a média amostral 1.38, produzindo um intervalo de 1.12 a 1.64\n",
      "Para o indíce de confiança de 95% sobre as amostras de alunos insatisfeios, foi encontrado um erro de 0.52 sobre a média amostral 2.37, produzindo um intervalo de 1.84 a 2.89\n"
     ]
    }
   ],
   "source": [
    "# Calcula parâmetros amostrais (média e desvio padrão)\n",
    "ins_mean = df_sample[\"Insatisfeito\"].mean()\n",
    "sat_mean = df_sample[\"Satisfeito\"].mean()\n",
    "ins_std = df_sample[\"Insatisfeito\"].std()\n",
    "sat_std = df_sample[\"Satisfeito\"].std()\n",
    "\n",
    "# Calcula os intervalos de confiança\n",
    "tc = stats.t.ppf(1-0.05/2, N-1)\n",
    "error_sa = tc * sat_std / math.sqrt(N)\n",
    "error_in = tc * ins_std / math.sqrt(N)\n",
    "\n",
    "print(\"Para o indíce de confiança de 95% sobre as amostras de alunos satisfeios, foi encontrado um erro de {0:.2f} sobre a média amostral {1:.2f}, produzindo um intervalo de {2:.2f} a {3:.2f}\".format(\n",
    "        error_sa, sat_mean, sat_mean - error_sa, sat_mean + error_sa))\n",
    "print(\"Para o indíce de confiança de 95% sobre as amostras de alunos insatisfeios, foi encontrado um erro de {0:.2f} sobre a média amostral {1:.2f}, produzindo um intervalo de {2:.2f} a {3:.2f}\".format(\n",
    "        error_in, ins_mean, ins_mean - error_in, ins_mean + error_in))"
   ]
  },
  {
   "cell_type": "code",
   "execution_count": 6,
   "metadata": {
    "scrolled": false
   },
   "outputs": [
    {
     "data": {
      "image/png": "[encoded data removed]",
      "text/plain": [
       "<Figure size 360x432 with 1 Axes>"
      ]
     },
     "metadata": {},
     "output_type": "display_data"
    }
   ],
   "source": [
    "fig, ax = plt.subplots(figsize=(5,6)) \n",
    "\n",
    "ax.bar(x=[\"Insatisfeitos\", \"Satisfeitos\"], height=[ins_mean, sat_mean], yerr = [error_in, error_sa], width = 0.5, color=default_color, edgecolor = \"black\", \n",
    "               error_kw=dict(elinewidth=5, edgecolor=0.4))\n",
    "ax.set(xlabel=\"Amostras\", ylabel=\"Renda em número de salários mínimos\", title=\"Valores de salários para as duas amostras e seus intervalos de confiança\")\n",
    "\n",
    "# Insere linhas dos limites dos intervalos\n",
    "ax.axhline(y=ins_mean + error_in, color='black', linestyle=':', lw=1)\n",
    "ax.axhline(y=ins_mean, color='black', linestyle='--', lw=1)\n",
    "ax.axhline(y=ins_mean - error_in, color='black', linestyle=':', lw=1)\n",
    "ax.axhline(y=sat_mean + error_sa, color='black', linestyle=':', lw=1)\n",
    "ax.axhline(y=sat_mean, color='black', linestyle='--', lw=1)\n",
    "ax.axhline(y=sat_mean - error_sa, color='black', linestyle=':', lw=1)\n",
    "\n",
    "ax.annotate(str(round(ins_mean + error_in,3)), xy=(1, ins_mean + error_in), xytext=(25, 0),\n",
    "        xycoords=('axes fraction', 'data'), textcoords='offset points', horizontalalignment=\"left\", verticalalignment='center',\n",
    "        arrowprops=dict(arrowstyle='-|>', fc='black', shrinkA=0, shrinkB=0), bbox=dict(boxstyle=\"round\", alpha=0.7, fc='white'))    \n",
    "ax.annotate(str(round(ins_mean,3)), xy=(1, ins_mean), xytext=(25, 0),\n",
    "    xycoords=('axes fraction', 'data'), textcoords='offset points', horizontalalignment=\"left\", verticalalignment='center',\n",
    "    arrowprops=dict(arrowstyle='-|>', fc='black', shrinkA=0, shrinkB=0), bbox=dict(boxstyle=\"round\", alpha=0.7, fc='white'))    \n",
    "ax.annotate(str(round(ins_mean - error_in,3)), xy=(1, ins_mean - error_in), xytext=(25, 0),\n",
    "        xycoords=('axes fraction', 'data'), textcoords='offset points', horizontalalignment=\"left\", verticalalignment='center',\n",
    "        arrowprops=dict(arrowstyle='-|>', fc='black', shrinkA=0, shrinkB=0), bbox=dict(boxstyle=\"round\", alpha=0.7, fc='white'))    \n",
    "ax.annotate(str(round(sat_mean + error_sa,3)), xy=(1, sat_mean + error_sa), xytext=(25, 0),\n",
    "        xycoords=('axes fraction', 'data'), textcoords='offset points', horizontalalignment=\"left\", verticalalignment='center',\n",
    "        arrowprops=dict(arrowstyle='-|>', fc='black', shrinkA=0, shrinkB=0), bbox=dict(boxstyle=\"round\", alpha=0.7, fc='white'))    \n",
    "ax.annotate(str(round(sat_mean,3)), xy=(1, sat_mean), xytext=(25, 0),\n",
    "        xycoords=('axes fraction', 'data'), textcoords='offset points', horizontalalignment=\"left\", verticalalignment='center',\n",
    "        arrowprops=dict(arrowstyle='-|>', fc='black', shrinkA=0, shrinkB=0), bbox=dict(boxstyle=\"round\", alpha=0.7, fc='white'))    \n",
    "ax.annotate(str(round(sat_mean - error_sa,3)), xy=(1, sat_mean - error_sa), xytext=(25, 0),\n",
    "        xycoords=('axes fraction', 'data'), textcoords='offset points', horizontalalignment=\"left\", verticalalignment='center',\n",
    "        arrowprops=dict(arrowstyle='-|>', fc='black', shrinkA=0, shrinkB=0), bbox=dict(boxstyle=\"round\", alpha=0.7, fc='white'))    \n",
    "    \n",
    "\n",
    "# Salva figura na pasta dedicada\n",
    "plt.savefig('Dados\\Q4e1.png', bbox_inches='tight', dpi=dpi)"
   ]
  },
  {
   "cell_type": "markdown",
   "metadata": {},
   "source": [
    "### e.2 – Com base nos resultados do item e.1 há evidência de que as médias das rendas são diferentes entre alunos com OpiniãoC INSATISFEITO e SATISFEITO? JUSTIFIQUE."
   ]
  },
  {
   "cell_type": "markdown",
   "metadata": {},
   "source": [
    "Há sim!"
   ]
  },
  {
   "cell_type": "markdown",
   "metadata": {},
   "source": [
    "### e.3 – Aplique o teste de hipóteses apropriado e verifique se há indicação de diferença entre as variâncias de rendas de alunos com OpiniãoC INSATISFEITO e SATISFEITO. Use 5% de significância."
   ]
  },
  {
   "cell_type": "markdown",
   "metadata": {},
   "source": [
    "H0: Variância dos dois grupos são iguais\n",
    "    \n",
    "H1: Variância dos dois grupos são diferentes\n",
    "\n",
    "α = 0.05\n",
    "\n",
    "Como as variâncias são diferentes, será escolhido o teste t para 2 amostras independentes com v graus de liberdade\n"
   ]
  },
  {
   "cell_type": "code",
   "execution_count": 7,
   "metadata": {
    "scrolled": true
   },
   "outputs": [
    {
     "data": {
      "text/plain": [
       "Text(0,-25,'f_c2 = 2.979')"
      ]
     },
     "execution_count": 7,
     "metadata": {},
     "output_type": "execute_result"
    },
    {
     "data": {
      "image/png": "[encoded data removed]",
      "text/plain": [
       "<Figure size 648x288 with 1 Axes>"
      ]
     },
     "metadata": {},
     "output_type": "display_data"
    }
   ],
   "source": [
    "alpha = 0.05\n",
    "df1, df2 = 14, 14\n",
    "s1 = df_sample[\"Insatisfeito\"].std()**2\n",
    "s2 = df_sample[\"Satisfeito\"].std()**2\n",
    "F = s1/s2\n",
    "\n",
    "fig, ax = plt.subplots(figsize=(9,4))    \n",
    "fc1 = stats.f.ppf(alpha/2, df1, df2)\n",
    "fc2 = stats.f.ppf(1-alpha/2, df1, df2)\n",
    "\n",
    "x = np.linspace(stats.f.ppf(0.00001, df1, df2), stats.f.ppf(0.997, df1, df2), 1000)\n",
    "y = stats.f(df1, df2).pdf(x)\n",
    "\n",
    "ax.plot(x, y, 'k-', lw=2, label='Distribuição F')\n",
    "\n",
    "ax.fill_between(x[x < fc1], 0, stats.f.pdf(x[x < fc1], df1, df2), facecolor='0.7')\n",
    "ax.fill_between(x[x > fc2], 0, stats.f.pdf(x[x > fc2], df1, df2), facecolor='0.7')\n",
    "ax.set(xbound =(0, x.max()), ybound = (0,y.max()*1.1))\n",
    "\n",
    "ax.grid(color=default_grid_color)\n",
    "ax.set(title=\"Gráfico da distribuição F de Fischer com significância α = 0.05\")\n",
    "\n",
    "# Insere anotação sobre a linha de f dos samples\n",
    "ax.annotate('f_calculado = {:0.3f}'.format(F), xy=(F, 0), xytext=(0, 25),\n",
    "        xycoords=('data', 'axes fraction'), textcoords='offset points', horizontalalignment=\"center\", verticalalignment='bottom',\n",
    "        arrowprops=dict(arrowstyle='-|>', fc='black', shrinkA=0, shrinkB=0), bbox=dict(boxstyle=\"round\", alpha=0.7, fc='white'))\n",
    "\n",
    "# Insere anotação sobre a linha de f critico\n",
    "ax.annotate('f_c1 = ' + str(round(fc1,3)), xy=(fc1, 0), xytext=(0, -25),\n",
    "        xycoords=('data', 'axes fraction'), textcoords='offset points', horizontalalignment=\"center\", verticalalignment='top',\n",
    "        arrowprops=dict(arrowstyle='-|>', fc='black', shrinkA=0, shrinkB=0), bbox=dict(boxstyle=\"round\", alpha=0.7, fc='white'))    \n",
    "\n",
    "\n",
    "# Insere anotação sobre a linha de f critico\n",
    "ax.annotate('f_c2 = ' + str(round(fc2,3)), xy=(fc2, 0), xytext=(0, -25),\n",
    "        xycoords=('data', 'axes fraction'), textcoords='offset points', horizontalalignment=\"center\", verticalalignment='top',\n",
    "        arrowprops=dict(arrowstyle='-|>', fc='black', shrinkA=0, shrinkB=0), bbox=dict(boxstyle=\"round\", alpha=0.7, fc='white'))    \n",
    "    "
   ]
  },
  {
   "cell_type": "markdown",
   "metadata": {},
   "source": [
    "Conclui-se que as variâncias são diferentes."
   ]
  },
  {
   "cell_type": "markdown",
   "metadata": {},
   "source": [
    "### e.4 – Com base nos resultados do item e.3, aplique o teste de hipóteses apropriado e verifique se há evidência de que as médias das rendas são diferentes entre alunos com OpiniãoC INSATIFEITO e SATISFEITO. Use 5% de significância."
   ]
  },
  {
   "cell_type": "code",
   "execution_count": 8,
   "metadata": {},
   "outputs": [
    {
     "name": "stdout",
     "output_type": "stream",
     "text": [
      "Como o p-valor 0.002 é inferior ao grau de insignificância 0.05, a hipótese de que as médias são iguais é rejeitada\n"
     ]
    }
   ],
   "source": [
    "# tc = stats.t.ppf(1-alpha, dfreedom)\n",
    "\n",
    "t, p_value = stats.ttest_ind(df_sample[\"Insatisfeito\"], df_sample[\"Satisfeito\"], equal_var=False)\n",
    "print(\"Como o p-valor {0:.3f} é inferior ao grau de insignificância 0.05, a hipótese de que as médias são iguais é rejeitada\".format(p_value))"
   ]
  },
  {
   "cell_type": "markdown",
   "metadata": {},
   "source": [
    "### e.5 – Compare os resultados dos itens e.2 e e.4. Eles chegam à mesma conclusão sobre a diferença entre as médias? JUSTIFIQUE."
   ]
  },
  {
   "cell_type": "markdown",
   "metadata": {},
   "source": [
    "Sim, chegam à mesma conclusão."
   ]
  },
  {
   "cell_type": "markdown",
   "metadata": {},
   "source": [
    "### e.6 – Calcule o poder do teste para as seguintes diferenças entre as médias das rendas (em desvios padrões) dos alunos com OpiniãoC INSATISFEITO e SATISFEITO:\n",
    "### -3 -2,5 -2 -1,5 -1 -0,5 0,5 1,0 1,5 2 2,5 3\n",
    "### Use 5% de significância. Use como estimativa do desvio padrão populacional o desvio agrupado calculado a partir dos desvios padrões e tamanho de cada subgrupo no teste de diferença de médias do item e.4."
   ]
  },
  {
   "cell_type": "code",
   "execution_count": 9,
   "metadata": {
    "scrolled": false
   },
   "outputs": [
    {
     "data": {
      "image/png": "[encoded data removed]",
      "text/plain": [
       "<Figure size 864x360 with 1 Axes>"
      ]
     },
     "metadata": {},
     "output_type": "display_data"
    }
   ],
   "source": [
    "distances = np.arange(-3, 3.5, 0.5)\n",
    "poderes = [power.tt_ind_solve_power(effect_size=d, nobs1=15, ratio=1, alpha=0.05) for d in distances]\n",
    "\n",
    "# Insere os samples num dataframe\n",
    "df_poderes_e6 = pd.DataFrame(poderes)\n",
    "df_poderes_e6.columns = [\"Poder do teste\"]\n",
    "df_poderes_e6.index = distances\n",
    "\n",
    "# Grava a tabela em um arquivo csv\n",
    "df_poderes_e6.T.to_csv(\"Dados\\Q4e6.csv\", encoding='utf-8', index=True)\n",
    "\n",
    "fig, ax = plt.subplots(figsize=(12,5))      \n",
    "\n",
    "ax.plot(distances, poderes, color=\"black\", marker=\"o\")\n",
    "ax.set(xbound =(-3, 3), ybound = (0,1.1))\n",
    "\n",
    "ax.set(xlabel=\"Distância padronizada\", ylabel=\"Poder do teste\", title=\"\")\n",
    "ax.grid(color=default_grid_color)\n",
    "\n",
    "# for x,y in zip(distances, poderes):                     \n",
    "#     ax.annotate(\"({0:.1f}, {1:.2f})\".format(x,y), xy=(x+0.1, y+0.04), textcoords='data', size=9)\n",
    "\n",
    "# Salva figura na pasta dedicada\n",
    "plt.savefig('Dados\\Q4e6.png', bbox_inches='tight', dpi=dpi)"
   ]
  },
  {
   "cell_type": "code",
   "execution_count": 10,
   "metadata": {
    "scrolled": true
   },
   "outputs": [
    {
     "data": {
      "text/html": [
       "<div>\n",
       "<style scoped>\n",
       "    .dataframe tbody tr th:only-of-type {\n",
       "        vertical-align: middle;\n",
       "    }\n",
       "\n",
       "    .dataframe tbody tr th {\n",
       "        vertical-align: top;\n",
       "    }\n",
       "\n",
       "    .dataframe thead th {\n",
       "        text-align: right;\n",
       "    }\n",
       "</style>\n",
       "<table border=\"1\" class=\"dataframe\">\n",
       "  <thead>\n",
       "    <tr style=\"text-align: right;\">\n",
       "      <th></th>\n",
       "      <th>-3.0</th>\n",
       "      <th>-2.5</th>\n",
       "      <th>-2.0</th>\n",
       "      <th>-1.5</th>\n",
       "      <th>-1.0</th>\n",
       "      <th>-0.5</th>\n",
       "      <th>0.0</th>\n",
       "      <th>0.5</th>\n",
       "      <th>1.0</th>\n",
       "      <th>1.5</th>\n",
       "      <th>2.0</th>\n",
       "      <th>2.5</th>\n",
       "      <th>3.0</th>\n",
       "    </tr>\n",
       "  </thead>\n",
       "  <tbody>\n",
       "    <tr>\n",
       "      <th>Poder do teste</th>\n",
       "      <td>1.0</td>\n",
       "      <td>1.0</td>\n",
       "      <td>0.999553</td>\n",
       "      <td>0.977432</td>\n",
       "      <td>0.752923</td>\n",
       "      <td>0.262443</td>\n",
       "      <td>0.05</td>\n",
       "      <td>0.262443</td>\n",
       "      <td>0.752923</td>\n",
       "      <td>0.977432</td>\n",
       "      <td>0.999553</td>\n",
       "      <td>1.0</td>\n",
       "      <td>1.0</td>\n",
       "    </tr>\n",
       "  </tbody>\n",
       "</table>\n",
       "</div>"
      ],
      "text/plain": [
       "                -3.0  -2.5      -2.0      -1.5      -1.0      -0.5   0.0  \\\n",
       "Poder do teste   1.0   1.0  0.999553  0.977432  0.752923  0.262443  0.05   \n",
       "\n",
       "                     0.5       1.0       1.5       2.0   2.5   3.0  \n",
       "Poder do teste  0.262443  0.752923  0.977432  0.999553   1.0   1.0  "
      ]
     },
     "execution_count": 10,
     "metadata": {},
     "output_type": "execute_result"
    }
   ],
   "source": [
    "df_poderes_e6.T"
   ]
  },
  {
   "cell_type": "markdown",
   "metadata": {},
   "source": [
    "### e.7 – Repita o item e.6 para tamanhos de amostra 20, 30 e 60 elementos em cada grupo, supondo que o desvio padrão agrupado permanece o mesmo). Construa um gráfico com os valores de média e poder do teste para os diferentes tamanhos de amostra (curva característica de operação). Analise os resultados e recomende qual seria o tamanho de amostra mais apropriado conciliando poder do teste e economia na amostragem. JUSTIFIQUE."
   ]
  },
  {
   "cell_type": "code",
   "execution_count": 11,
   "metadata": {},
   "outputs": [
    {
     "data": {
      "image/png": "[encoded data removed]",
      "text/plain": [
       "<Figure size 864x432 with 1 Axes>"
      ]
     },
     "metadata": {},
     "output_type": "display_data"
    }
   ],
   "source": [
    "distances = np.arange(-3, 3.5, 0.5)\n",
    "sizes = [20, 30, 60]\n",
    "poderes = [[power.tt_ind_solve_power(effect_size=d, nobs1=n, ratio=1, alpha=0.05) for d in distances] for n in sizes]\n",
    "\n",
    "# Insere os samples num dataframe\n",
    "df_poderes_e7 = pd.DataFrame(poderes)\n",
    "df_poderes_e7.columns = distances\n",
    "df_poderes_e7.index = sizes\n",
    "\n",
    "# Grava a tabela em um arquivo csv\n",
    "df_poderes_e7.to_csv(\"Dados\\Q4e7.csv\", encoding='utf-8', index=True)\n",
    "\n",
    "fig, ax = plt.subplots(figsize=(12,6))    \n",
    "\n",
    "ax.plot(distances, poderes[0], color=\"black\", linestyle=\"-\", marker=\"o\", markersize=8, label=\"Tamanho 20\") \n",
    "ax.plot(distances, poderes[1], color=\"black\", linestyle=\"--\",  marker=\"*\", markersize=12, label=\"Tamanho 30\") \n",
    "ax.plot(distances, poderes[2], color=\"black\", linestyle=\":\",  marker=\"D\", markersize=8, label=\"Tamanho 60\") \n",
    "\n",
    "ax.set(xbound=(-3, 3), xticks=np.arange(-3, 3, 0.5), ybound = (0,1.1), yticks=np.arange(0, 2, 0.1))\n",
    "\n",
    "ax.set(xlabel=\"Distância padronizada\", ylabel=\"Poder do teste\", title=\"\")\n",
    "ax.grid(color=default_grid_color)\n",
    "ax.legend(loc='lower right', bbox_to_anchor=(1, 0), handlelength=8, handleheight=2)\n",
    "\n",
    "# for x,y in zip(distances, poderes):                     \n",
    "#     ax.annotate(\"({0:.1f}, {1:.2f})\".format(x,y), xy=(x+0.1, y+0.04), textcoords='data', size=9)\n",
    "\n",
    "# Salva figura na pasta dedicada\n",
    "plt.savefig('Dados\\Q4e7.png', bbox_inches='tight', dpi=dpi)"
   ]
  },
  {
   "cell_type": "code",
   "execution_count": 12,
   "metadata": {},
   "outputs": [
    {
     "data": {
      "text/html": [
       "<div>\n",
       "<style scoped>\n",
       "    .dataframe tbody tr th:only-of-type {\n",
       "        vertical-align: middle;\n",
       "    }\n",
       "\n",
       "    .dataframe tbody tr th {\n",
       "        vertical-align: top;\n",
       "    }\n",
       "\n",
       "    .dataframe thead th {\n",
       "        text-align: right;\n",
       "    }\n",
       "</style>\n",
       "<table border=\"1\" class=\"dataframe\">\n",
       "  <thead>\n",
       "    <tr style=\"text-align: right;\">\n",
       "      <th></th>\n",
       "      <th>-3.0</th>\n",
       "      <th>-2.5</th>\n",
       "      <th>-2.0</th>\n",
       "      <th>-1.5</th>\n",
       "      <th>-1.0</th>\n",
       "      <th>-0.5</th>\n",
       "      <th>0.0</th>\n",
       "      <th>0.5</th>\n",
       "      <th>1.0</th>\n",
       "      <th>1.5</th>\n",
       "      <th>2.0</th>\n",
       "      <th>2.5</th>\n",
       "      <th>3.0</th>\n",
       "    </tr>\n",
       "  </thead>\n",
       "  <tbody>\n",
       "    <tr>\n",
       "      <th>20</th>\n",
       "      <td>1.0</td>\n",
       "      <td>1.0</td>\n",
       "      <td>1.0</td>\n",
       "      <td>0.996100</td>\n",
       "      <td>0.868953</td>\n",
       "      <td>0.337939</td>\n",
       "      <td>0.05</td>\n",
       "      <td>0.337939</td>\n",
       "      <td>0.868953</td>\n",
       "      <td>0.996100</td>\n",
       "      <td>1.0</td>\n",
       "      <td>1.0</td>\n",
       "      <td>1.0</td>\n",
       "    </tr>\n",
       "    <tr>\n",
       "      <th>30</th>\n",
       "      <td>1.0</td>\n",
       "      <td>1.0</td>\n",
       "      <td>1.0</td>\n",
       "      <td>0.999912</td>\n",
       "      <td>0.967708</td>\n",
       "      <td>0.477897</td>\n",
       "      <td>0.05</td>\n",
       "      <td>0.477897</td>\n",
       "      <td>0.967708</td>\n",
       "      <td>0.999912</td>\n",
       "      <td>1.0</td>\n",
       "      <td>1.0</td>\n",
       "      <td>1.0</td>\n",
       "    </tr>\n",
       "    <tr>\n",
       "      <th>60</th>\n",
       "      <td>1.0</td>\n",
       "      <td>1.0</td>\n",
       "      <td>1.0</td>\n",
       "      <td>1.000000</td>\n",
       "      <td>0.999742</td>\n",
       "      <td>0.775266</td>\n",
       "      <td>0.05</td>\n",
       "      <td>0.775266</td>\n",
       "      <td>0.999742</td>\n",
       "      <td>1.000000</td>\n",
       "      <td>1.0</td>\n",
       "      <td>1.0</td>\n",
       "      <td>1.0</td>\n",
       "    </tr>\n",
       "  </tbody>\n",
       "</table>\n",
       "</div>"
      ],
      "text/plain": [
       "    -3.0  -2.5  -2.0      -1.5      -1.0      -0.5   0.0       0.5       1.0  \\\n",
       "20   1.0   1.0   1.0  0.996100  0.868953  0.337939  0.05  0.337939  0.868953   \n",
       "30   1.0   1.0   1.0  0.999912  0.967708  0.477897  0.05  0.477897  0.967708   \n",
       "60   1.0   1.0   1.0  1.000000  0.999742  0.775266  0.05  0.775266  0.999742   \n",
       "\n",
       "         1.5   2.0   2.5   3.0  \n",
       "20  0.996100   1.0   1.0   1.0  \n",
       "30  0.999912   1.0   1.0   1.0  \n",
       "60  1.000000   1.0   1.0   1.0  "
      ]
     },
     "execution_count": 12,
     "metadata": {},
     "output_type": "execute_result"
    }
   ],
   "source": [
    "df_poderes_e7"
   ]
  },
  {
   "cell_type": "code",
   "execution_count": null,
   "metadata": {},
   "outputs": [],
   "source": []
  }
 ],
 "metadata": {
  "kernelspec": {
   "display_name": "Python 3",
   "language": "python",
   "name": "python3"
  },
  "language_info": {
   "codemirror_mode": {
    "name": "ipython",
    "version": 3
   },
   "file_extension": ".py",
   "mimetype": "text/x-python",
   "name": "python",
   "nbconvert_exporter": "python",
   "pygments_lexer": "ipython3",
   "version": "3.6.4"
  }
 },
 "nbformat": 4,
 "nbformat_minor": 2
}
