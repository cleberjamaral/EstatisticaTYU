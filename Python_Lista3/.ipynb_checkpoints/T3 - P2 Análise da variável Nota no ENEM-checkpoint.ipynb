{
 "cells": [
  {
   "cell_type": "code",
   "execution_count": 1,
   "metadata": {},
   "outputs": [],
   "source": [
    "import matplotlib.pyplot as plt\n",
    "import pandas as pd\n",
    "import numpy as np\n",
    "import math\n",
    "import random\n",
    "import seaborn as sns\n",
    "from scipy import stats\n",
    "\n",
    "dpi=400\n",
    "default_hatch_patterns = [\"o\" , \"x\", \".\" , \"*\" , \".\" , \"\\\\\" , \"O\", \".\", \"*\"]\n",
    "default_color = \"0.80\"\n",
    "default_box_width = 14\n",
    "default_box_marker = \"|\"\n",
    "default_box_marker_size = 20\n",
    "default_box_marker_alpha = 0.8\n",
    "default_grid_color = \"0.8\"\n",
    "df = pd.read_csv(\"TYU07_corrigido.csv\").drop('Unnamed: 0', axis=1)"
   ]
  },
  {
   "cell_type": "markdown",
   "metadata": {},
   "source": [
    "# Segunda parte – Análise da variável Nota no ENEM"
   ]
  },
  {
   "cell_type": "markdown",
   "metadata": {},
   "source": [
    "## Questão 2\n",
    "Há uma grande preocupação em estimar o comportamento da variável Nota no ENEM dos alunos, de maneira a caracterizar melhor seu o perfil. Alguém da universidade sugeriu que você retirasse uma amostra de 25 alunos e registrasse os valores de Nota no ENEM3. Considere que a variância populacional de Nota no ENEM é DESCONHECIDA. Com base nos resultados encontrados responda os itens a seguir (lembre-se de excluir inicialmente as linhas com dados perdidos)."
   ]
  },
  {
   "cell_type": "markdown",
   "metadata": {},
   "source": [
    "### 2.a) Construa um gráfico de probabilidade normal para os valores da amostra."
   ]
  },
  {
   "cell_type": "code",
   "execution_count": 2,
   "metadata": {},
   "outputs": [],
   "source": [
    "N = 25\n",
    "dfreedom = N - 1\n",
    "sampleENEM = random.sample(df[\"Nota ENEM\"].dropna().tolist(), N)\n",
    "sample_mean = np.mean(sampleENEM)\n",
    "sample_std = np.std(sampleENEM)"
   ]
  },
  {
   "cell_type": "code",
   "execution_count": 3,
   "metadata": {},
   "outputs": [
    {
     "data": {
      "image/png": "[encoded data removed]",
      "text/plain": [
       "<Figure size 432x432 with 1 Axes>"
      ]
     },
     "metadata": {},
     "output_type": "display_data"
    }
   ],
   "source": [
    "fig, ax = plt.subplots(figsize=(6,6))\n",
    "stats.probplot(sampleENEM, plot=ax)\n",
    "ax.set(title=\"Gráfico de probabilidade normal da amostra da variável ENEM\")\n",
    "ax.set(xlabel=\"Quantis\", ylabel=\"Nota\")\n",
    "ax.grid(color=default_grid_color)\n",
    "\n",
    "# Insere informação adicional\n",
    "ax.text(-1.5, 650, \"Assimetria: \" + str(round(stats.skew(sampleENEM),3)) + \"\\nCurtose: \" + str(round(stats.kurtosis(sampleENEM),3)), va=\"center\", ha=\"left\",\n",
    "        bbox=dict(boxstyle=\"round\", alpha=1, fc='white'))\n",
    "\n",
    "# Salva figura na pasta dedicada\n",
    "plt.savefig('Figuras\\Q2a.png', bbox_inches='tight', dpi=dpi)"
   ]
  },
  {
   "cell_type": "markdown",
   "metadata": {},
   "source": [
    "### 2.a.1 - É possível considerar que os dados provêm de uma população com distribuição normal? JUSTIFIQUE."
   ]
  },
  {
   "cell_type": "markdown",
   "metadata": {},
   "source": [
    "Ver depois"
   ]
  },
  {
   "cell_type": "markdown",
   "metadata": {},
   "source": [
    "### 2.a.2 – Com base na resposta da letra a.1 você recomendaria a utilização de técnicas como Intervalo de confiança e teste paramétrico de média? JUSTIFIQUE."
   ]
  },
  {
   "cell_type": "markdown",
   "metadata": {},
   "source": [
    "Ver depois (utilizar teste t)"
   ]
  },
  {
   "cell_type": "markdown",
   "metadata": {},
   "source": [
    "### 2.b) Independente dos resultados da letra a), encontre o intervalo de 95% de confiança para a média populacional. Interprete o resultado."
   ]
  },
  {
   "cell_type": "code",
   "execution_count": 4,
   "metadata": {},
   "outputs": [
    {
     "name": "stdout",
     "output_type": "stream",
     "text": [
      "Para o indíce de confiança de 95%, foi encontrado um erro de 56.22 sobre a média amostral 508.2, produzindo um intervalo de 451.98 a 564.42\n"
     ]
    }
   ],
   "source": [
    "\n",
    "\n",
    "error_95 = zc * sample_std / math.sqrt(25)\n",
    "interval_95 = (sample_mean - error_95, sample_mean, sample_mean + error_95)\n",
    "print(\"Para o indíce de confiança de 95%, foi encontrado um erro de {0} sobre a média amostral {1}, produzindo um intervalo de {2} a {3}\".format(\n",
    "        round(error_95,2), round(interval_95[1],2), round(interval_95[0],2), round(interval_95[2],2)))"
   ]
  },
  {
   "cell_type": "markdown",
   "metadata": {},
   "source": [
    "### 2.c) Independente dos resultados da letra a), qual seria o tamanho mínimo de amostra necessário para obter um intervalo de 95% de confiança para a média populacional da Nota no ENEM, com uma precisão de 5 pontos? A amostra coletada é suficiente? JUSTIFIQUE."
   ]
  },
  {
   "cell_type": "code",
   "execution_count": 5,
   "metadata": {},
   "outputs": [
    {
     "name": "stdout",
     "output_type": "stream",
     "text": [
      "O tamanho mínimo de intervalo é de 3161 amostras.\n"
     ]
    }
   ],
   "source": [
    "print(\"O tamanho mínimo de intervalo é de \" + str(math.ceil((zc * sample_std/5)**2)) + \" amostras.\")"
   ]
  },
  {
   "cell_type": "markdown",
   "metadata": {},
   "source": [
    "### d) Independente dos resultados da letra a), a direção da TYU acredita que a média de Nota no ENEM dos alunos é maior do que 450 pontos, por pesquisas anteriores. Aplicando o teste estatístico apropriado, os dados confirmam isso, a 5% de significância? JUSTIFIQUE."
   ]
  },
  {
   "cell_type": "markdown",
   "metadata": {},
   "source": [
    "Vamos utilizar o teste t (justificar)\n",
    "H0: Nota ENEM <= 450\n",
    "H1: Nota ENEM >  450\n",
    "Alpha = 5% (cauda direita)"
   ]
  },
  {
   "cell_type": "code",
   "execution_count": 6,
   "metadata": {},
   "outputs": [],
   "source": [
    "alpha = 0.05\n",
    "hyp_mean = 450\n",
    "# tlim = stats.t.ppf(1-alpha, df)\n",
    "t = (sample_mean - hyp_mean)/(sample_std/math.sqrt(dfreedom))\n",
    "p = 1 - stats.t.cdf(t, df=dfreedom)"
   ]
  },
  {
   "cell_type": "code",
   "execution_count": 7,
   "metadata": {},
   "outputs": [
    {
     "name": "stdout",
     "output_type": "stream",
     "text": [
      "Como o valor p 0.0292 é menor que o índice de confiança (alpha) para esta situação (0.05), a suposição H0 de que a nota do enem não é superior a 450 é rejeitada. Portanto, é possível dizer com 95% de certeza que a média da nota do ENEM é superior a 450 pontos.\n"
     ]
    }
   ],
   "source": [
    "print(\"Como o valor p {0} é menor que o índice de confiança (alpha) para esta situação ({1}), a suposição H0 de que a nota do enem não é superior a 450 é rejeitada. Portanto, é possível dizer com 95% de certeza que a média da nota do ENEM é superior a 450 pontos.\".format(round(p,4),round(alpha,4)))"
   ]
  },
  {
   "cell_type": "markdown",
   "metadata": {},
   "source": [
    "### e) Analise o intervalo de confiança da letra b). Os limites encontrados corroboram os resultados encontrados na letra d)? JUSTIFIQUE."
   ]
  },
  {
   "cell_type": "code",
   "execution_count": 8,
   "metadata": {},
   "outputs": [
    {
     "name": "stdout",
     "output_type": "stream",
     "text": [
      "Sim, como há 95% de certeza que a média se encontra entre 451.98 e 564.42, a afirmação de que há pelo menos 95% de certeza da média estar acima de 450 pontos faz sentido também.\n"
     ]
    }
   ],
   "source": [
    "print(\"Sim, como há 95% de certeza que a média se encontra entre {0} e {1}, a afirmação de que há pelo menos 95% de certeza da média estar acima de 450 pontos faz sentido também.\".format(round(interval_95[0],2), round(interval_95[2],2)))"
   ]
  },
  {
   "cell_type": "markdown",
   "metadata": {},
   "source": [
    "### f) Independente dos resultados da letra a), suponha 5% de significância e o desvio padrão amostral como boa estimativa do desvio padrão populacional. Se a média real da Nota no ENEM fosse de 470 pontos, qual seria o poder do teste? Você acha o valor aceitável? JUSTIFIQUE."
   ]
  },
  {
   "cell_type": "code",
   "execution_count": 9,
   "metadata": {},
   "outputs": [],
   "source": [
    "pop_std = sample_std/math.sqrt(N)\n",
    "pop_mean = 470\n",
    "alpha = 0.05\n",
    "\n",
    "tlim = stats.t.ppf(1-alpha, dfreedom)\n",
    "t = (sample_mean - pop_mean)/pop_std\n",
    "p = 1 - stats.t.cdf(t, df=dfreedom)"
   ]
  },
  {
   "cell_type": "code",
   "execution_count": 10,
   "metadata": {},
   "outputs": [],
   "source": [
    "E = tlim*pop_std"
   ]
  },
  {
   "cell_type": "code",
   "execution_count": 11,
   "metadata": {},
   "outputs": [
    {
     "data": {
      "text/plain": [
       "49.072726998363876"
      ]
     },
     "execution_count": 11,
     "metadata": {},
     "output_type": "execute_result"
    }
   ],
   "source": [
    "E"
   ]
  },
  {
   "cell_type": "code",
   "execution_count": 12,
   "metadata": {
    "scrolled": true
   },
   "outputs": [
    {
     "name": "stdout",
     "output_type": "stream",
     "text": [
      "Com o P valendo 0.098, o teste estaria errando severamente na estimativa da média populacional\n"
     ]
    }
   ],
   "source": [
    "print(\"Com o P valendo {0}, o teste estaria errando severamente na estimativa da média populacional\".format(round(p,3)))"
   ]
  },
  {
   "cell_type": "markdown",
   "metadata": {},
   "source": [
    "### g) Independente dos resultados da letra a), qual deveria ser o tamanho mínimo de amostra para detectar com 95% de probabilidade que a média da Nota no ENEM dos alunos é igual a 470 pontos. Suponha 5% de significância e o desvio padrão amostral como boa estimativa do desvio padrão populacional. A amostra coletada é suficiente? JUSTIFIQUE."
   ]
  },
  {
   "cell_type": "code",
   "execution_count": null,
   "metadata": {},
   "outputs": [],
   "source": []
  },
  {
   "cell_type": "code",
   "execution_count": null,
   "metadata": {},
   "outputs": [],
   "source": []
  },
  {
   "cell_type": "code",
   "execution_count": null,
   "metadata": {},
   "outputs": [],
   "source": []
  },
  {
   "cell_type": "code",
   "execution_count": null,
   "metadata": {},
   "outputs": [],
   "source": []
  }
 ],
 "metadata": {
  "kernelspec": {
   "display_name": "Python 3",
   "language": "python",
   "name": "python3"
  },
  "language_info": {
   "codemirror_mode": {
    "name": "ipython",
    "version": 3
   },
   "file_extension": ".py",
   "mimetype": "text/x-python",
   "name": "python",
   "nbconvert_exporter": "python",
   "pygments_lexer": "ipython3",
   "version": "3.6.4"
  }
 },
 "nbformat": 4,
 "nbformat_minor": 2
}
