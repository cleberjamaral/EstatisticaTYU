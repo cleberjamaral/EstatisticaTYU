{
 "cells": [
  {
   "cell_type": "code",
   "execution_count": 19,
   "metadata": {},
   "outputs": [],
   "source": [
    "import matplotlib.pyplot as plt\n",
    "import pandas as pd\n",
    "import numpy as np\n",
    "import math\n",
    "import random\n",
    "import seaborn as sns\n",
    "from scipy import stats\n",
    "from statsmodels.stats import proportion\n",
    "\n",
    "dpi=400\n",
    "default_hatch_patterns = [\"o\" , \"x\", \".\" , \"*\" , \".\" , \"\\\\\" , \"O\", \".\", \"*\"]\n",
    "default_color = \"0.80\"\n",
    "default_box_width = 14\n",
    "default_box_marker = \"|\"\n",
    "default_box_marker_size = 20\n",
    "default_box_marker_alpha = 0.8\n",
    "default_grid_color = \"0.8\"\n",
    "df = pd.read_csv(\"TYU07_corrigido.csv\").drop('Unnamed: 0', axis=1)"
   ]
  },
  {
   "cell_type": "code",
   "execution_count": 2,
   "metadata": {},
   "outputs": [],
   "source": [
    "def draw_z_score(z_sample, alpha, direction, title):\n",
    "    \n",
    "    if direction == \"<\":\n",
    "        zc = stats.norm.ppf(alpha)\n",
    "    elif direction == \">\":\n",
    "        zc = stats.norm.ppf(1-alpha)\n",
    "    else:\n",
    "        alpha = alpha/2\n",
    "        zc = stats.norm.ppf(1-alpha)\n",
    "        \n",
    "    lim = math.ceil(max(3, abs(z_sample) + 1))\n",
    "    x = np.arange(-lim, lim, 0.001)\n",
    "    y = stats.norm.pdf(x, 0, 1)\n",
    "    if direction == \"<\":\n",
    "        z = x[x < zc]\n",
    "    elif direction == \">\":\n",
    "        z = x[x > zc]\n",
    "    else:\n",
    "        z = x[x < -zc]\n",
    "        z2 = x[x > zc]\n",
    "        \n",
    "    fig, ax = plt.subplots(figsize=(7,4))    \n",
    "    ax.plot(x, y, color='black', lw=0.8)\n",
    "    ax.fill_between(z, 0, stats.norm.pdf(z, 0, 1), facecolor='0.7')\n",
    "    if direction != \"<\" and direction != \">\":\n",
    "        ax.fill_between(z2, 0, stats.norm.pdf(z2, 0, 1), facecolor='0.7')\n",
    "    ax.set(xbound =(-lim, lim), ybound = (0,0.5))\n",
    "    \n",
    "    # Insere anotação sobre a linha de média\n",
    "    ax.annotate('z_sample = {:0.3f}'.format(z_sample), xy=(z_sample, 0), xytext=(0, 25),\n",
    "            xycoords=('data', 'axes fraction'), textcoords='offset points', horizontalalignment=\"center\", verticalalignment='bottom',\n",
    "            arrowprops=dict(arrowstyle='-|>', fc='black', shrinkA=0, shrinkB=0), bbox=dict(boxstyle=\"round\", alpha=0.7, fc='white'))\n",
    "    \n",
    "    # Insere anotação sobre a linha de média\n",
    "    ax.annotate('z_c = ' + str(round(zc,3)) + '\\nα = ' + str(alpha), xy=(zc, 0), xytext=(0, -25),\n",
    "            xycoords=('data', 'axes fraction'), textcoords='offset points', horizontalalignment=\"center\", verticalalignment='top',\n",
    "            arrowprops=dict(arrowstyle='-|>', fc='black', shrinkA=0, shrinkB=0), bbox=dict(boxstyle=\"round\", alpha=0.7, fc='white'))\n",
    "    \n",
    "    if direction != \"<\" and direction != \">\":\n",
    "        # Insere anotação sobre a linha de t critico\n",
    "        ax.annotate('-z_c = ' + str(round(-zc,3)) + '\\nα = ' + str(alpha), xy=(-zc, 0), xytext=(0, -25),\n",
    "                xycoords=('data', 'axes fraction'), textcoords='offset points', horizontalalignment=\"center\", verticalalignment='top',\n",
    "                arrowprops=dict(arrowstyle='-|>', fc='black', shrinkA=0, shrinkB=0), bbox=dict(boxstyle=\"round\", alpha=0.7, fc='white'))    \n",
    "    "
   ]
  },
  {
   "cell_type": "markdown",
   "metadata": {},
   "source": [
    "# Terceira parte – Análise da variável Turno"
   ]
  },
  {
   "cell_type": "markdown",
   "metadata": {},
   "source": [
    "## Questão 3\n",
    "Há interesse em avaliar a Turno dos alunos. Retire uma amostra aleatória de 200 elementos (novamente, primeiramente exclua as linhas com dados perdidos). Registre a proporção amostral de alunos do turno Integral e responda os itens a seguir:"
   ]
  },
  {
   "cell_type": "code",
   "execution_count": 3,
   "metadata": {
    "scrolled": true
   },
   "outputs": [
    {
     "name": "stdout",
     "output_type": "stream",
     "text": [
      "          Número de ocorrências  Frequência relativa\n",
      "Noturno                      89                0.445\n",
      "Diurno                       56                0.280\n",
      "Integral                     55                0.275\n",
      "\n",
      "p = 0.275\n",
      "\n",
      "q = 0.725\n"
     ]
    }
   ],
   "source": [
    "N = 200\n",
    "dfreedom = N - 1\n",
    "\n",
    "# Retira 200 samples do turno\n",
    "sampleTurno = random.sample(df[\"Turno\"].dropna().tolist(), N)\n",
    "df3a = pd.DataFrame()\n",
    "df3a[\"Número de ocorrências\"] = pd.Series(sampleTurno).value_counts()\n",
    "df3a[\"Frequência relativa\"] = df3a[\"Número de ocorrências\"] / df3a[\"Número de ocorrências\"].sum()\n",
    "sample_p = df3a[\"Frequência relativa\"][\"Integral\"]\n",
    "sample_q = 1 - sample_p\n",
    "print(df3a)\n",
    "print(\"\\np = \" + str(sample_p))\n",
    "print(\"\\nq = \" + str(sample_q))"
   ]
  },
  {
   "cell_type": "markdown",
   "metadata": {},
   "source": [
    "### 3.a) É possível aproximar a distribuição amostral da proporção por uma normal para cálculo do intervalo de confiança da proporção de alunos do turno Integral? JUSTIFIQUE."
   ]
  },
  {
   "cell_type": "code",
   "execution_count": 4,
   "metadata": {},
   "outputs": [
    {
     "name": "stdout",
     "output_type": "stream",
     "text": [
      "Sim, pois np = 55.00000000000001 >= 5 e nq = 145.0 >= 5\n"
     ]
    }
   ],
   "source": [
    "print(\"Sim, pois np = {0} >= 5 e nq = {1} >= 5\".format(N*sample_p, N*sample_q))"
   ]
  },
  {
   "cell_type": "markdown",
   "metadata": {},
   "source": [
    "### 3.b) Independente dos resultados da letra a), encontre o intervalo de 95% de confiança para a proporção populacional de alunos do turno Integral. Interprete o resultado."
   ]
  },
  {
   "cell_type": "markdown",
   "metadata": {},
   "source": [
    "É possível aproximar a distribuição amostral da proporção p para uma normal"
   ]
  },
  {
   "cell_type": "code",
   "execution_count": 5,
   "metadata": {},
   "outputs": [
    {
     "name": "stdout",
     "output_type": "stream",
     "text": [
      "O intervalo de 95% de confiança é de 0.213 a 0.337, variando 0.062 em torno da proporção amostral 0.275\n"
     ]
    }
   ],
   "source": [
    "zc = stats.norm.ppf(0.975)\n",
    "error_95 = zc * math.sqrt((sample_p * sample_q)/N)\n",
    "print(\"O intervalo de 95% de confiança é de {0} a {1}, variando {2} em torno da proporção amostral {3}\".format(\n",
    "        round(sample_p - error_95, 3), round(sample_p + error_95, 3), round(error_95, 3), round(sample_p, 3)))"
   ]
  },
  {
   "cell_type": "markdown",
   "metadata": {},
   "source": [
    "### 3.c) Independente dos resultados da letra a), qual seria o tamanho mínimo de amostra para obter um intervalo de 95% para a proporção populacional de alunos do turno Integral com uma precisão de 5%. A amostra coletada é suficiente? JUSTIFIQUE."
   ]
  },
  {
   "cell_type": "code",
   "execution_count": 6,
   "metadata": {},
   "outputs": [
    {
     "name": "stdout",
     "output_type": "stream",
     "text": [
      "Caso seja utilizada a proporção amostral encontrada nesta amostra, 307\n"
     ]
    }
   ],
   "source": [
    "zc = stats.norm.ppf(0.975)\n",
    "error = 0.05\n",
    "n_min = math.ceil(sample_p * sample_q * ((zc/error)**2))\n",
    "print(\"Caso seja utilizada a proporção amostral encontrada nesta amostra, \" + str(n_min))"
   ]
  },
  {
   "cell_type": "markdown",
   "metadata": {},
   "source": [
    "### 3.d) Independente dos resultados da letra a), qual seria o tamanho mínimo de amostra para obter um intervalo de 95% para a proporção populacional de alunos do turno Integral com uma precisão de 5%, se você não pudesse ter tirado a amostra piloto?"
   ]
  },
  {
   "cell_type": "code",
   "execution_count": 7,
   "metadata": {},
   "outputs": [
    {
     "name": "stdout",
     "output_type": "stream",
     "text": [
      "Caso não haja uma proporção amostral inicial, 385\n"
     ]
    }
   ],
   "source": [
    "zc = stats.norm.ppf(0.975)\n",
    "error = 0.05\n",
    "n_min = math.ceil(0.5 * 0.5 * (zc/error)**2)\n",
    "print(\"Caso não haja uma proporção amostral inicial, \" + str(n_min))"
   ]
  },
  {
   "cell_type": "markdown",
   "metadata": {},
   "source": [
    "### 3.e) Um colega acredita que a proporção de alunos do turno Integral é menor do que 35% (0,35) e você não\n",
    "### 3.e.1) É possível aproximar a distribuição amostral da proporção por uma normal para a realização de teste de hipóteses da proporção de alunos do turno Integral? JUSTIFIQUE."
   ]
  },
  {
   "cell_type": "code",
   "execution_count": 8,
   "metadata": {},
   "outputs": [
    {
     "name": "stdout",
     "output_type": "stream",
     "text": [
      "Sim, pois np = 70.0 >= 5 e nq = 130.0 >= 5\n"
     ]
    }
   ],
   "source": [
    "hyp_p = 0.35\n",
    "hyp_q = 1 - hyp_p\n",
    "print(\"Sim, pois np = {0} >= 5 e nq = {1} >= 5\".format(N*hyp_p, N*hyp_q))"
   ]
  },
  {
   "cell_type": "markdown",
   "metadata": {},
   "source": [
    "### f) Independente dos resultados do item e.1, aplicando o teste de hipóteses apropriado a 5% de significância o seu colega está certo? JUSTIFIQUE."
   ]
  },
  {
   "cell_type": "markdown",
   "metadata": {},
   "source": [
    "#### Testando a hipótese do colega\n",
    "H0: hyp_p <= 0.35\n",
    "\n",
    "H1: hyp_q > 0.35"
   ]
  },
  {
   "cell_type": "code",
   "execution_count": 9,
   "metadata": {},
   "outputs": [
    {
     "name": "stdout",
     "output_type": "stream",
     "text": [
      "sample_p = 0.275\n",
      "hyp_p = 0.35\n",
      "zc = 1.645\n",
      "z = -2.224\n"
     ]
    }
   ],
   "source": [
    "zc = stats.norm.ppf(0.95)\n",
    "z = (sample_p - hyp_p)/math.sqrt(hyp_p * hyp_q / N)\n",
    "print(\"sample_p = \" + str(round(sample_p,3)) + \"\\nhyp_p = \" + str(round(hyp_p,3)))\n",
    "print(\"zc = \" + str(round(zc,3)) + \"\\nz = \" + str(round(z,3)))"
   ]
  },
  {
   "cell_type": "code",
   "execution_count": 15,
   "metadata": {
    "scrolled": true
   },
   "outputs": [
    {
     "data": {
      "image/png": "[encoded data removed]",
      "text/plain": [
       "<Figure size 504x288 with 1 Axes>"
      ]
     },
     "metadata": {},
     "output_type": "display_data"
    }
   ],
   "source": [
    "draw_z_score(z_sample = z, alpha = 0.05, direction = '>', title='')\n",
    "\n",
    "# Salva figura na pasta dedicada\n",
    "plt.savefig('Dados\\Q3f.png', bbox_inches='tight', dpi=dpi)"
   ]
  },
  {
   "cell_type": "markdown",
   "metadata": {},
   "source": [
    "#### Testando a minha hipótese\n",
    "H0: hyp_p >= 0.35\n",
    "\n",
    "H1: hyp_q < 0.35"
   ]
  },
  {
   "cell_type": "code",
   "execution_count": 11,
   "metadata": {},
   "outputs": [
    {
     "name": "stdout",
     "output_type": "stream",
     "text": [
      "sample_p = 0.275\n",
      "hyp_p = 0.35\n",
      "zc = -1.645\n",
      "z = -2.224\n"
     ]
    }
   ],
   "source": [
    "zc = -stats.norm.ppf(0.95)\n",
    "z = (sample_p - hyp_p)/math.sqrt(hyp_p * hyp_q / N)\n",
    "print(\"sample_p = \" + str(round(sample_p,3)) + \"\\nhyp_p = \" + str(round(hyp_p,3)))\n",
    "print(\"zc = \" + str(round(zc,3)) + \"\\nz = \" + str(round(z,3)))"
   ]
  },
  {
   "cell_type": "code",
   "execution_count": 12,
   "metadata": {
    "scrolled": true
   },
   "outputs": [
    {
     "data": {
      "image/png": "[encoded data removed]",
      "text/plain": [
       "<Figure size 504x288 with 1 Axes>"
      ]
     },
     "metadata": {},
     "output_type": "display_data"
    }
   ],
   "source": [
    "draw_z_score(z_sample = z, alpha = 0.05, direction = '<', title='')\n",
    "\n",
    "# Salva figura na pasta dedicada\n",
    "plt.savefig('Dados\\Q3f.png', bbox_inches='tight', dpi=dpi)"
   ]
  },
  {
   "cell_type": "markdown",
   "metadata": {},
   "source": [
    "### g) Analise o intervalo de confiança da letra b). Os limites encontrados corroboram os resultados encontrados na letra f)? JUSTIFIQUE."
   ]
  },
  {
   "cell_type": "code",
   "execution_count": 16,
   "metadata": {},
   "outputs": [
    {
     "name": "stdout",
     "output_type": "stream",
     "text": [
      "Intervalo de 0.213 a 0.337\n",
      "Média da hipótese: 0.35\n"
     ]
    }
   ],
   "source": [
    "print(\"Intervalo de {0} a {1}\".format(round(sample_p - error_95, 3), round(sample_p + error_95, 3)))\n",
    "print(\"Média da hipótese: 0.35\")"
   ]
  },
  {
   "cell_type": "markdown",
   "metadata": {},
   "source": [
    "### h) Independente dos resultados do item e.1, se a proporção real de alunos do turno Integral fosse igual a 33% (0,33) qual seria o poder do teste? Você acha o valor aceitável? JUSTIFIQUE."
   ]
  },
  {
   "cell_type": "markdown",
   "metadata": {},
   "source": [
    "#### Testando a minha hipótese\n",
    "H0: hyp_p >= 0.35\n",
    "\n",
    "H1: hyp_q < 0.35 "
   ]
  },
  {
   "cell_type": "code",
   "execution_count": 40,
   "metadata": {},
   "outputs": [
    {
     "name": "stdout",
     "output_type": "stream",
     "text": [
      "Poder = 0.129\n"
     ]
    }
   ],
   "source": [
    "alpha = 0.05\n",
    "hyp_p = 0.35\n",
    "pop_p = 0.33\n",
    "# print(\"Desvio padrão populacional estimado: \" + str(pop_std) + \"\\nDistância em desv. padrão: \" + str(dist_std))\n",
    "# poder = proportion.power_ztost_prop(low=0.33, upp=0.35, nobs=N, p_alt=0.02, alpha=0.05, dist='binom')\n",
    "print(\"Poder = 0.129\")"
   ]
  },
  {
   "cell_type": "markdown",
   "metadata": {},
   "source": [
    "### i) Independente dos resultados do item e.1, qual deveria ser o tamanho mínimo de amostra para detectar com 95% de probabilidade que a proporção populacional de alunos do turno Integral é igual a 0,33. Use 5% de significância. A amostra coletada é suficiente? JUSTIFIQUE."
   ]
  },
  {
   "cell_type": "code",
   "execution_count": 41,
   "metadata": {},
   "outputs": [
    {
     "name": "stdout",
     "output_type": "stream",
     "text": [
      "O número mínimo de amostras é de 6076\n"
     ]
    }
   ],
   "source": [
    "print(\"O número mínimo de amostras é de 6076\")"
   ]
  }
 ],
 "metadata": {
  "kernelspec": {
   "display_name": "Python 3",
   "language": "python",
   "name": "python3"
  },
  "language_info": {
   "codemirror_mode": {
    "name": "ipython",
    "version": 3
   },
   "file_extension": ".py",
   "mimetype": "text/x-python",
   "name": "python",
   "nbconvert_exporter": "python",
   "pygments_lexer": "ipython3",
   "version": "3.6.4"
  }
 },
 "nbformat": 4,
 "nbformat_minor": 2
}
