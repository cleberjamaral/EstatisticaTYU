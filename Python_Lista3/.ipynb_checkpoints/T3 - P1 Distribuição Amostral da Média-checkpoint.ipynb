{
 "cells": [
  {
   "cell_type": "code",
   "execution_count": 1,
   "metadata": {},
   "outputs": [],
   "source": [
    "import matplotlib.pyplot as plt\n",
    "import pandas as pd\n",
    "import numpy as np\n",
    "import math\n",
    "import random\n",
    "import seaborn as sns\n",
    "import scipy.stats as stats\n",
    "\n",
    "dpi=400\n",
    "default_hatch_patterns = [\"o\" , \"x\", \".\" , \"*\" , \".\" , \"\\\\\" , \"O\", \".\", \"*\"]\n",
    "default_color = \"0.80\"\n",
    "default_box_width = 14\n",
    "default_box_marker = \"|\"\n",
    "default_box_marker_size = 20\n",
    "default_box_marker_alpha = 0.8\n",
    "default_grid_color = \"0.8\"\n",
    "df = pd.read_csv(\"TYU07_corrigido.csv\").drop('Unnamed: 0', axis=1)"
   ]
  },
  {
   "cell_type": "markdown",
   "metadata": {},
   "source": [
    "# Parte 1 – Distribuição Amostral da Média"
   ]
  },
  {
   "cell_type": "markdown",
   "metadata": {},
   "source": [
    "## Questão 1\n",
    "Usando qualquer aplicativo que considere apropriado1 proceda a retirada de 1000 amostras aleatórias da variável Renda (primeiramente exclua as linhas com dados perdidos), com os seguintes tamanhos: 4, 16, 64 e 256 elementos. Com base nos resultados encontrados responda os itens a seguir:"
   ]
  },
  {
   "cell_type": "code",
   "execution_count": 2,
   "metadata": {},
   "outputs": [
    {
     "ename": "IndentationError",
     "evalue": "expected an indented block (<ipython-input-2-dc86f6bd9b5c>, line 11)",
     "output_type": "error",
     "traceback": [
      "\u001b[0;36m  File \u001b[0;32m\"<ipython-input-2-dc86f6bd9b5c>\"\u001b[0;36m, line \u001b[0;32m11\u001b[0m\n\u001b[0;31m    sample4.append(random.sample(df[\"Renda\"].dropna().tolist(), 4))\u001b[0m\n\u001b[0m          ^\u001b[0m\n\u001b[0;31mIndentationError\u001b[0m\u001b[0;31m:\u001b[0m expected an indented block\n"
     ]
    }
   ],
   "source": [
    "sample4 = list()\n",
    "sample16 = list()\n",
    "sample64 = list()\n",
    "sample256 = list()\n",
    "\n",
    "# Garante que sempre serão gerados os mesmos números aleatórios\n",
    "random.seed(4)\n",
    "\n",
    "# Retira X elementos aleatoriamente da coluna Renda 1000 vezes\n",
    "for i in range(1000):\n",
    "    sample4.append(random.sample(df[\"Renda\"].dropna().tolist(), 4))\n",
    "    sample16.append(random.sample(df[\"Renda\"].dropna().tolist(), 16))\n",
    "    sample64.append(random.sample(df[\"Renda\"].dropna().tolist(), 64))\n",
    "    sample256.append(random.sample(df[\"Renda\"].dropna().tolist(), 256))\n",
    "    \n",
    "# Salva os samples em um .csv com ajuda do pandas dataframe\n",
    "pd.DataFrame([sample4, sample16, sample64, sample256], index=[\"4\", \"16\", \"64\", \"256\"]).T.to_csv(\"Dados\\Q1_samples.csv\", encoding='utf-8', index=False)"
   ]
  },
  {
   "cell_type": "markdown",
   "metadata": {},
   "source": [
    "### 1.a Pelo teorema central do limite admite-se que o valor esperado da média amostral seja a média populacional que se pretende estimar, e eles serão tão mais próximos à medida que aumenta o tamanho da amostra. Isso é confirmado pelos resultados obtidos nas amostras? JUSTIFIQUE."
   ]
  },
  {
   "cell_type": "code",
   "execution_count": null,
   "metadata": {},
   "outputs": [],
   "source": [
    "mean4 = list()\n",
    "mean16 = list()\n",
    "mean64 = list()\n",
    "mean256 = list()\n",
    "# Como cada elemento das listas é composto por um conjunto de valores, é retirado a média de cada um desses conjuntos (há 1000)\n",
    "for i in range(1000):\n",
    "    mean4.append(np.mean(sample4[i]))\n",
    "    mean16.append(np.mean(sample16[i]))\n",
    "    mean64.append(np.mean(sample64[i]))\n",
    "    mean256.append(np.mean(sample256[i]))\n",
    "    \n",
    "# Cria um dataframe com as seguintes colunas    \n",
    "df1a = pd.DataFrame(columns=[\"Media\", \"Erro\"])\n",
    "\n",
    "# Inclui as linhas no dataframe\n",
    "df1a.loc[\"Média de amostragem de tamanho 4\"] = np.array([np.mean(mean4), abs(100*(np.mean(mean4)-df[\"Renda\"].mean())/df[\"Renda\"].mean())])\n",
    "df1a.loc[\"Média de amostragem de tamanho 16\"] = np.array([np.mean(mean16), abs(100*(np.mean(mean16)-df[\"Renda\"].mean())/df[\"Renda\"].mean())])\n",
    "df1a.loc[\"Média de amostragem de tamanho 64\"] = np.array([np.mean(mean64), abs(100*(np.mean(mean64)-df[\"Renda\"].mean())/df[\"Renda\"].mean())])\n",
    "df1a.loc[\"Média de amostragem de tamanho 256\"] = np.array([np.mean(mean256), abs(100*(np.mean(mean256)-df[\"Renda\"].mean())/df[\"Renda\"].mean())])\n",
    "df1a.loc[\"Média populacional\"] = np.array([df[\"Renda\"].mean(), 0])\n",
    "\n",
    "# Arredonda e salva em formato CSV com os indices\n",
    "df1a.round(3).to_csv(\"Dados\\Q1a.csv\", encoding='utf-8', index=True)"
   ]
  },
  {
   "cell_type": "code",
   "execution_count": null,
   "metadata": {
    "scrolled": true
   },
   "outputs": [],
   "source": [
    "df1a"
   ]
  },
  {
   "cell_type": "markdown",
   "metadata": {},
   "source": [
    "### 1.b) Além do que foi dito acima, admite-se que o desvio padrão das médias amostrais será igual ao desvio padrão populacional dividido pela raiz quadrada do tamanho da amostra, e eles serão tão mais próximos à medida que aumenta o tamanho da amostra. As amostras retiradas confirmam essa afirmação? JUSTIFIQUE."
   ]
  },
  {
   "cell_type": "code",
   "execution_count": null,
   "metadata": {},
   "outputs": [],
   "source": [
    "# df1b = pd.DataFrame(columns=[\"Desvio padrão amostral (N de sal. mín.)\", \"Desvio padrão amostral * sqrt(N)\", \"Erro (%)\"])\n",
    "df1b = pd.DataFrame(columns=[\"sd\", \"sdN\", \"Erro\"])\n",
    "\n",
    "df1b.loc[\"Desvio padrão médio de amostragens de tamanho 4\"] = np.array([np.std(mean4),     np.std(mean4)*math.sqrt(4),     abs(100*(1 - np.std(mean4)  /(df[\"Renda\"].std()/math.sqrt(4))))])\n",
    "df1b.loc[\"Desvio padrão médio de amostragens de tamanho 16\"] = np.array([np.std(mean16),   np.std(mean16)*math.sqrt(16),   abs(100*(1 - np.std(mean16) /(df[\"Renda\"].std()/math.sqrt(16))))])\n",
    "df1b.loc[\"Desvio padrão médio de amostragens de tamanho 64\"] = np.array([np.std(mean64),   np.std(mean64)*math.sqrt(64),   abs(100*(1 - np.std(mean64) /(df[\"Renda\"].std()/math.sqrt(64))))])\n",
    "df1b.loc[\"Desvio padrão médio de amostragens de tamanho 256\"] = np.array([np.std(mean256), np.std(mean256)*math.sqrt(256), abs(100*(1 - np.std(mean256)/(df[\"Renda\"].std()/math.sqrt(256))))])\n",
    "df1b.loc[\"Desvio padrão populacional\"] = np.array([round(df[\"Renda\"].std(),5),0 , 0])\n",
    "\n",
    "# Arredonda e salva em formato CSV com os indices\n",
    "df1b.round(4).to_csv(\"Dados\\Q1b.csv\", encoding='utf-8', index=True)"
   ]
  },
  {
   "cell_type": "code",
   "execution_count": null,
   "metadata": {},
   "outputs": [],
   "source": [
    "df1b.round(4)"
   ]
  },
  {
   "cell_type": "markdown",
   "metadata": {},
   "source": [
    "### c) Outra característica muito importante do teorema central do limite é que a distribuição amostral da média será cada vez mais próxima de uma distribuição normal, à medida que o tamanho da amostra aumenta, independentemente da forma da distribuição da variável na população. Sabe-se que a variável Renda não tem distribuição normal na população. Os resultados das amostras corroboram esta afirmação (usem os gráficos apropriados). JUSTIFIQUE."
   ]
  },
  {
   "cell_type": "code",
   "execution_count": null,
   "metadata": {},
   "outputs": [],
   "source": [
    "df1c = pd.DataFrame(columns=[\"Assimetria\", \"Curtose\"])\n",
    "df1c.loc[\"Amostragem de tamanho 4\"] = np.array([stats.skew(mean4), stats.kurtosis(mean4)])\n",
    "df1c.loc[\"Amostragem de tamanho 16\"] = np.array([stats.skew(mean16), stats.kurtosis(mean16)])\n",
    "df1c.loc[\"Amostragem de tamanho 64\"] = np.array([stats.skew(mean64), stats.kurtosis(mean64)])\n",
    "df1c.loc[\"Amostragem de tamanho 256\"] = np.array([stats.skew(mean256), stats.kurtosis(mean256)])\n",
    "\n",
    "df1c.round(3).to_csv(\"Dados\\Q1c.csv\", encoding='utf-8', index=True)"
   ]
  },
  {
   "cell_type": "code",
   "execution_count": null,
   "metadata": {
    "scrolled": true
   },
   "outputs": [],
   "source": [
    "df1c.round(3)"
   ]
  },
  {
   "cell_type": "markdown",
   "metadata": {},
   "source": [
    "Mesocúrtica: achatamento da curva normal, curtose = 0.\n",
    "Se assimetria = 0, a distribuição é SIMÉTRICA."
   ]
  },
  {
   "cell_type": "code",
   "execution_count": null,
   "metadata": {
    "scrolled": true
   },
   "outputs": [],
   "source": [
    "mean_pop = df[\"Renda\"].mean()\n",
    "\n",
    "fig, ax = plt.subplots(figsize=(13,5))\n",
    "\n",
    "sns.kdeplot(mean4,   ax=ax, color='black', linestyle=':')\n",
    "sns.kdeplot(mean16,  ax=ax, color='black', linestyle='-.')\n",
    "sns.kdeplot(mean64,  ax=ax, color='black', linestyle='-')\n",
    "sns.kdeplot(mean256, ax=ax, color='black', linestyle='--')\n",
    "\n",
    "# xmin, xmax = plt.xlim()\n",
    "# mu, std = stats.norm.fit(mean256)\n",
    "# x = np.linspace(xmin, xmax, 10000)\n",
    "# plt.plot(x, stats.norm.pdf(x, mean_pop, np.std(mean64)), color='black', linewidth=10, alpha=0.2)\n",
    "\n",
    "ax.set(title=\"Gráfico de densidade das médias das amostragens da variável Renda\", xlabel=\"Renda em número de salários mínimos\", ylabel=\"Densidade\")\n",
    "ax.annotate('N = 4',   xy=(1.07, 0.40), xytext=(0.7, 1.5), arrowprops=dict(arrowstyle='-|>', fc='black'))\n",
    "ax.annotate('N = 16',  xy=(1.34, 0.50), xytext=(0.9, 2.1), arrowprops=dict(arrowstyle='-|>', fc='black'))\n",
    "ax.annotate('N = 64',  xy=(1.60, 1.66), xytext=(1.1, 3.0), arrowprops=dict(arrowstyle='-|>', fc='black'))\n",
    "ax.annotate('N = 256', xy=(1.68, 2.98), xytext=(1.2, 4.1), arrowprops=dict(arrowstyle='-|>', fc='black'))\n",
    "\n",
    "ax.legend(handles=ax.lines, labels=[\"Amostra de tamanho 4\",\"Amostra de tamanho 16\",\"Amostra de tamanho 64\",\"Amostra de tamanho 256\"], handlelength=4, handleheight=2)\n",
    "\n",
    "ax.grid(color=default_grid_color)\n",
    "ax.set_xbound((0.5,3.5))\n",
    "\n",
    "# Insere linnha de média populacional\n",
    "ax.axvline(x=df[\"Renda\"].mean(), color='black', linestyle=':')\n",
    "\n",
    "# Insere anotação sobre a linha de média\n",
    "ax.annotate('Média populacional: {:0.2f}'.format(mean_pop), xy=(mean_pop, 0.74), xytext=(80, -2),\n",
    "    xycoords=('data', 'axes fraction'), textcoords='offset points',\n",
    "    arrowprops=dict(arrowstyle='-|>', fc='black'))\n",
    "\n",
    "# Insere informação adicional\n",
    "ax.text(0.9, 5, \"N = Tamanho da amostra\", va=\"center\", ha=\"center\",\n",
    "        bbox=dict(boxstyle=\"round\", alpha=1, fc='white'))\n",
    "\n",
    "# Salva figura na pasta dedicada\n",
    "plt.savefig('Dados\\Q1c.png', bbox_inches='tight', dpi=dpi)"
   ]
  },
  {
   "cell_type": "markdown",
   "metadata": {},
   "source": [
    "### 1.d) Obtenha os intervalos de 95% de confiança para as 1000 amostras de cada tamanho. Construa gráficos apropriados para mostrá-los. Analisando os gráficos, o que você pode concluir sobre a precisão dos intervalos à medida que aumenta o tamanho de amostra? JUSTIFIQUE."
   ]
  },
  {
   "cell_type": "markdown",
   "metadata": {},
   "source": [
    "Para 95% de confiança, zc = 1.96. Pelo teorema do limite central, para tamanhos de amostras superiores a 30 a distribuição das médias tende a ser normal. O nivel de conficanca c é o intervalo entre -zc e +zc. A area que sobra é de 1 - c, portanto, cada cauda tem area (1 - c)/2. A margem de erro é E = (zc * sd)/sqrt(n)"
   ]
  },
  {
   "cell_type": "code",
   "execution_count": null,
   "metadata": {},
   "outputs": [],
   "source": [
    "zc = 1.96\n",
    "error4_95 = zc * np.std(mean4) / math.sqrt(4)\n",
    "error16_95 = zc * np.std(mean16) / math.sqrt(16)\n",
    "error64_95 = zc * np.std(mean64) / math.sqrt(64)\n",
    "error256_95 = zc * np.std(mean256) / math.sqrt(256)\n",
    "interval4_95 = [np.mean(mean4) - error4_95, np.mean(mean4), np.mean(mean4) + error4_95, error4_95]\n",
    "interval16_95 = [np.mean(mean16) - error16_95, np.mean(mean16), np.mean(mean16) + error16_95, error16_95]\n",
    "interval64_95 = [np.mean(mean64) - error64_95, np.mean(mean64), np.mean(mean64) + error64_95, error64_95]\n",
    "interval256_95 = [np.mean(mean256) - error256_95, np.mean(mean256), np.mean(mean256) + error256_95, error256_95]\n",
    "intervals_95 = [interval4_95, interval16_95, interval64_95, interval256_95]\n",
    "# Cria dataframe com intervalos e erros\n",
    "df1d = pd.DataFrame(intervals_95, columns=[\"Limite inferior\", \"Valor central\", \"Limite superior\", \"Erro\"])\n",
    "\n",
    "# Salva o dataframe\n",
    "df1d.round(4).to_csv(\"Dados\\Q1d.csv\", encoding='utf-8', index=True)\n",
    "\n",
    "df1d"
   ]
  },
  {
   "cell_type": "code",
   "execution_count": null,
   "metadata": {},
   "outputs": [],
   "source": [
    "fig, ax = plt.subplots(nrows=4, ncols=1, sharex=True, sharey=True, figsize=(13, 19))\n",
    "\n",
    "data = (mean4, mean16, mean64, mean256)\n",
    "\n",
    "for i in range(0,4):\n",
    "    ax[i].vlines(x=range(0,1000), ymin=df[\"Renda\"].mean(), ymax=data[i], alpha=0.4, lw=0.4)\n",
    "    ax[i].scatter(range(0,1000), data[i], s=2, color='black')\n",
    "\n",
    "    ax[i].grid(axis=\"y\", color=default_grid_color)\n",
    "    ax[i].set_xbound((0,1000))\n",
    "    ax[i].set_ybound((0.8, 4))\n",
    "    ax[i].set(title=\"Distribuição das médias das amostras de tamanho\" + \" \" + str(4**(1+i)), xlabel=\"Amostra\", ylabel=\"Média da amostra\")\n",
    "\n",
    "    # Insere linnha de média populacional e limites de confiança\n",
    "    ax[i].axhline(y=df[\"Renda\"].mean(), color='black', linestyle='-', lw=2)\n",
    "    ax[i].axhline(y=intervals_95[i][0], color='black', linestyle='--', lw=1)\n",
    "    ax[i].axhline(y=intervals_95[i][2], color='black', linestyle='--', lw=1)\n",
    "\n",
    "    # Insere anotação sobre a linha de média\n",
    "    ax[i].annotate('Média populacional: {:0.3f}'.format(df[\"Renda\"].mean()), xy=(1000, df[\"Renda\"].mean()), xytext=(30, 0),\n",
    "        verticalalignment='center', xycoords=('data', 'data'), textcoords='offset points',\n",
    "        arrowprops=dict(arrowstyle='-|>', fc='black'))\n",
    "\n",
    "    # Insere anotação sobre a linha\n",
    "    ax[i].annotate('Limite inferior do intervalo\\nde confiança (95%): {:0.3f}'.format(intervals_95[i][0]), xy=(1000, intervals_95[i][0]), xytext=(30, -30),\n",
    "        verticalalignment='center', xycoords=('data', 'data'), textcoords='offset points',\n",
    "        arrowprops=dict(arrowstyle='-|>', fc='black'))\n",
    "\n",
    "    # Insere anotação sobre a linha\n",
    "    ax[i].annotate('Limite superior do intervalo\\nde confiança (95%): {:0.3f}'.format(intervals_95[i][2]), xy=(1000, intervals_95[i][2]), xytext=(30, 30),\n",
    "        verticalalignment='center', xycoords=('data', 'data'), textcoords='offset points',\n",
    "        arrowprops=dict(arrowstyle='-|>', fc='black'))\n",
    "\n",
    "# Salva figura na pasta dedicada\n",
    "plt.savefig('Dados\\Q1d.png', bbox_inches='tight', dpi=dpi)"
   ]
  },
  {
   "cell_type": "code",
   "execution_count": null,
   "metadata": {},
   "outputs": [],
   "source": []
  }
 ],
 "metadata": {
  "kernelspec": {
   "display_name": "Python 3",
   "language": "python",
   "name": "python3"
  },
  "language_info": {
   "codemirror_mode": {
    "name": "ipython",
    "version": 3
   },
   "file_extension": ".py",
   "mimetype": "text/x-python",
   "name": "python",
   "nbconvert_exporter": "python",
   "pygments_lexer": "ipython3",
   "version": "3.6.5"
  }
 },
 "nbformat": 4,
 "nbformat_minor": 2
}
