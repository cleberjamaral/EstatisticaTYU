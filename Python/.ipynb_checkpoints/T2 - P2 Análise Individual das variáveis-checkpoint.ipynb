{
 "cells": [
  {
   "cell_type": "code",
   "execution_count": 1,
   "metadata": {},
   "outputs": [
    {
     "name": "stdout",
     "output_type": "stream",
     "text": [
      "<class 'pandas.core.frame.DataFrame'>\n",
      "RangeIndex: 10000 entries, 0 to 9999\n",
      "Data columns (total 7 columns):\n",
      "Curso           9980 non-null object\n",
      "Turno           9974 non-null object\n",
      "Ensino médio    9971 non-null object\n",
      "Opinião         9975 non-null object\n",
      "Renda           9974 non-null float64\n",
      "Nota ENEM       10000 non-null int64\n",
      "IAA             10000 non-null float64\n",
      "dtypes: float64(2), int64(1), object(4)\n",
      "memory usage: 547.0+ KB\n"
     ]
    }
   ],
   "source": [
    "import matplotlib.pyplot as plt\n",
    "import pandas as pd\n",
    "import numpy as np\n",
    "import math\n",
    "\n",
    "default_hatch_patterns = [\"o\" , \"x\", \"*\" , \".\" , \".\" , \"\\\\\" , \"O\", \".\", \"*\"]\n",
    "default_color = \"0.80\"\n",
    "default_box_width = 14\n",
    "default_box_marker = \"|\"\n",
    "default_box_marker_size = 20\n",
    "default_box_marker_alpha = 0.8\n",
    "default_grid_color = \"0.8\"\n",
    "dpi=400\n",
    "\n",
    "df = pd.read_csv(\"TYU07_corrigido.csv\").drop('Unnamed: 0', axis=1)\n",
    "df.info()"
   ]
  },
  {
   "cell_type": "markdown",
   "metadata": {},
   "source": [
    "## Questão 3 \n",
    "Analisem a variável Curso. Qual é o predominante? JUSTIFIQUEM!"
   ]
  },
  {
   "cell_type": "code",
   "execution_count": 2,
   "metadata": {},
   "outputs": [
    {
     "data": {
      "text/plain": [
       "Química       2297\n",
       "Produção      2068\n",
       "Mecânica      1874\n",
       "Elétrica      1474\n",
       "Computação    1294\n",
       "Civil          973\n",
       "Name: Curso, dtype: int64"
      ]
     },
     "execution_count": 2,
     "metadata": {},
     "output_type": "execute_result"
    }
   ],
   "source": [
    "df[\"Curso\"].value_counts()"
   ]
  },
  {
   "cell_type": "markdown",
   "metadata": {},
   "source": [
    "## Questão 4\n",
    "Analisem a variável Turno. Qual é o predominante? JUSTIFIQUEM!"
   ]
  },
  {
   "cell_type": "code",
   "execution_count": 3,
   "metadata": {},
   "outputs": [
    {
     "data": {
      "text/plain": [
       "Noturno     4099\n",
       "Integral    3238\n",
       "Diurno      2637\n",
       "Name: Turno, dtype: int64"
      ]
     },
     "execution_count": 3,
     "metadata": {},
     "output_type": "execute_result"
    }
   ],
   "source": [
    "df[\"Turno\"].value_counts()"
   ]
  },
  {
   "cell_type": "markdown",
   "metadata": {},
   "source": [
    "## Questão 5\n",
    "Analisem a variável Ensino médio. A direção da TYU acredita que a maioria absoluta dos seus alunos cursou o ensino médio predominantemente em escolas particulares. Há evidência de que isso realmente acontece? JUSTIFIQUEM!"
   ]
  },
  {
   "cell_type": "code",
   "execution_count": 4,
   "metadata": {},
   "outputs": [
    {
     "data": {
      "text/plain": [
       "Somente em pública           5569\n",
       "Maior parte em particular    1664\n",
       "Somente em particular        1457\n",
       "Maior parte em pública       1281\n",
       "Name: Ensino médio, dtype: int64"
      ]
     },
     "execution_count": 4,
     "metadata": {},
     "output_type": "execute_result"
    }
   ],
   "source": [
    "df[\"Ensino médio\"].value_counts()"
   ]
  },
  {
   "cell_type": "code",
   "execution_count": 5,
   "metadata": {},
   "outputs": [
    {
     "name": "stdout",
     "output_type": "stream",
     "text": [
      "3121 dos 9971 alunos cursaram predominantemente o ensino médio em escolas particulares. Isso resulta em 31.30% do total.\n"
     ]
    }
   ],
   "source": [
    "print(\"{} dos {} alunos cursaram predominantemente o ensino médio em escolas particulares. Isso resulta em {:.2f}% do total.\".format(int(df[\"Ensino médio\"].str.count(\"Maior parte em particular\").sum()+df[\"Ensino médio\"].str.count(\"Somente em particular\").sum()), df[\"Ensino médio\"].count(), 100 * (df[\"Ensino médio\"].str.count(\"Maior parte em particular\").sum()+df[\"Ensino médio\"].str.count(\"Somente em particular\").sum())/df[\"Ensino médio\"].count()))\n"
   ]
  },
  {
   "cell_type": "markdown",
   "metadata": {},
   "source": [
    "## Questão 6\n",
    "Analisem a variável Opinião. Os alunos da TYU estão satisfeitos com os seus cursos? JUSTIFIQUEM!"
   ]
  },
  {
   "cell_type": "code",
   "execution_count": 6,
   "metadata": {},
   "outputs": [
    {
     "data": {
      "text/plain": [
       "Muito satisfeito      3718\n",
       "Satisfeito            2184\n",
       "Insatisfeito          1677\n",
       "Indiferente           1499\n",
       "Muito insatisfeito     897\n",
       "Name: Opinião, dtype: int64"
      ]
     },
     "execution_count": 6,
     "metadata": {},
     "output_type": "execute_result"
    }
   ],
   "source": [
    "df[\"Opinião\"].value_counts()"
   ]
  },
  {
   "cell_type": "code",
   "execution_count": 7,
   "metadata": {},
   "outputs": [
    {
     "name": "stdout",
     "output_type": "stream",
     "text": [
      "Sim, 59.2% dos alunos se mostraram satisfeitos ou muito satisfeitos, e apenas 25.8% estão insatisfeitos ou muito insatisfeitos\n"
     ]
    }
   ],
   "source": [
    "print(\"Sim, {:.1f}% dos alunos se mostraram satisfeitos ou muito satisfeitos, e apenas {:.1f}% estão insatisfeitos ou muito insatisfeitos\".format(100*(df[\"Opinião\"].str.count(\"Muito satisfeito\").sum() + df[\"Opinião\"].str.count(\"Satisfeito\").sum())/df[\"Opinião\"].count(), 100*(df[\"Opinião\"].str.count(\"Insatisfeito\").sum() + df[\"Opinião\"].str.count(\"Muito insatisfeito\").sum())/df[\"Opinião\"].count()))"
   ]
  },
  {
   "cell_type": "markdown",
   "metadata": {},
   "source": [
    "## Questão 7\n",
    "Façam uma descrição da variável Renda. Em estudos anteriores pelo menos três quartos dos alunos de engenharia da TYU tinham renda familiar inferior a 2700. Os dados atuais confirmam isso? Lembrem-se de que o salário mínimo do Brasil em 2018 (referência para Pindorama) vale R$ 965"
   ]
  },
  {
   "cell_type": "code",
   "execution_count": 8,
   "metadata": {},
   "outputs": [
    {
     "data": {
      "text/plain": [
       "count    9974.000000\n",
       "mean        1.781226\n",
       "std         1.180862\n",
       "min         1.000000\n",
       "25%         1.100000\n",
       "50%         1.360000\n",
       "75%         2.000000\n",
       "max        24.560000\n",
       "Name: Renda, dtype: float64"
      ]
     },
     "execution_count": 8,
     "metadata": {},
     "output_type": "execute_result"
    }
   ],
   "source": [
    "df[\"Renda\"].describe()"
   ]
  },
  {
   "cell_type": "code",
   "execution_count": 9,
   "metadata": {},
   "outputs": [
    {
     "data": {
      "image/png": "[encoded data removed]",
      "text/plain": [
       "<Figure size 504x432 with 1 Axes>"
      ]
     },
     "metadata": {},
     "output_type": "display_data"
    }
   ],
   "source": [
    "bins = list(np.arange(0, 26, 2))\n",
    "df.groupby([pd.cut(df[\"Renda\"], bins)])[\"Renda\"].count().plot(kind=\"bar\", figsize=(7,6), title=\"Histograma da variável renda\", edgecolor = \"black\", color=default_color)\n",
    "plt.xlabel(\"Faixa salárial em número de salários mínimos\")\n",
    "plt.ylabel(\"Frequência absoluta\")\n",
    "# Salva figura na pasta dedicada\n",
    "plt.savefig('Figuras\\hist_tyu_renda.png', bbox_inches='tight')"
   ]
  },
  {
   "cell_type": "code",
   "execution_count": 10,
   "metadata": {},
   "outputs": [
    {
     "data": {
      "image/png": "[encoded data removed]",
      "text/plain": [
       "<Figure size 1008x216 with 1 Axes>"
      ]
     },
     "metadata": {},
     "output_type": "display_data"
    }
   ],
   "source": [
    "fig = plt.figure(1, figsize=(default_box_width, 3))\n",
    "ax = fig.add_subplot(111)\n",
    "\n",
    "bplot = ax.boxplot(df[\"Renda\"].dropna(), vert=False, widths=0.4)\n",
    "ax.set\n",
    "ax.set_yticklabels([\"\"])\n",
    "ax.set_xlabel(\"Renda em número de salários mínimos\")\n",
    "ax.set_title(\"Diagrama em caixas da Renda\")\n",
    "\n",
    "ax.set_xticks(np.arange(0, 25, 2))\n",
    "ax.set_xticks(np.arange(0, 25, 0.5), minor=True)\n",
    "ax.grid(axis=\"x\", color=default_grid_color)\n",
    "\n",
    "for line in bplot['medians']:\n",
    "    x, y = line.get_xydata()[1]\n",
    "    plt.text(x, y+0.04, '%.1f' % x, horizontalalignment='center') # draw above, centered\n",
    "    line.set(color=\"black\")\n",
    "\n",
    "for line in bplot['boxes']:\n",
    "    x, y = line.get_xydata()[0] # bottom of left line\n",
    "    plt.text(x,y-0.04, '%.1f' % x, horizontalalignment='center', verticalalignment='top')      # below\n",
    "    x, y = line.get_xydata()[3] # bottom of right line\n",
    "    plt.text(x,y-0.04, '%.1f' % x, horizontalalignment='center', verticalalignment='top')      # below\n",
    "        \n",
    "for flier in bplot['fliers']:\n",
    "    flier.set(marker=default_box_marker, alpha=default_box_marker_alpha, markersize=default_box_marker_size)\n",
    "    y = 1.03\n",
    "    x = min(flier.get_xydata()[:,0])\n",
    "    plt.text(x,y+0.07, '%.1f' % x, horizontalalignment='center')      # above\n",
    "    x = max(flier.get_xydata()[:,0])\n",
    "    plt.text(x,y+0.07, '%.1f' % x, horizontalalignment='center')      # above\n",
    "\n",
    "    \n",
    "plt.savefig('Figuras\\Q7.png', bbox_inches='tight', dpi=dpi)"
   ]
  },
  {
   "cell_type": "code",
   "execution_count": 11,
   "metadata": {},
   "outputs": [
    {
     "name": "stdout",
     "output_type": "stream",
     "text": [
      "Correto, 8785 ou 88.1% dos estudantes possuem renda inferior a R$ 2700\n"
     ]
    }
   ],
   "source": [
    "print(\"Correto, {} ou {:.1f}% dos estudantes possuem renda inferior a R$ 2700\".format(sum(df[\"Renda\"] < 2700/965), 100*sum(df[\"Renda\"] < 2700/965)/df[\"Opinião\"].count()))"
   ]
  },
  {
   "cell_type": "markdown",
   "metadata": {},
   "source": [
    "## Questão 8\n",
    "Façam uma descrição da variável Nota no ENEM. Admite-se que pelo menos 75% dos alunos dos cursos da TYU obtiveram nota maior ou igual a 420 no ENEM de Pindorama. Os dados atuais confirmam isso? JUSTIFIQUEM! (usando as tabelas de frequências, gráficos, e medidas usadas na descrição)."
   ]
  },
  {
   "cell_type": "code",
   "execution_count": 12,
   "metadata": {},
   "outputs": [
    {
     "data": {
      "text/plain": [
       "count    10000.000000\n",
       "mean       505.193900\n",
       "std        151.477462\n",
       "min         18.000000\n",
       "25%        404.000000\n",
       "50%        502.000000\n",
       "75%        605.000000\n",
       "max       1069.000000\n",
       "Name: Nota ENEM, dtype: float64"
      ]
     },
     "execution_count": 12,
     "metadata": {},
     "output_type": "execute_result"
    }
   ],
   "source": [
    "df[\"Nota ENEM\"].describe()"
   ]
  },
  {
   "cell_type": "code",
   "execution_count": 13,
   "metadata": {
    "scrolled": true
   },
   "outputs": [
    {
     "data": {
      "image/png": "[encoded data removed]",
      "text/plain": [
       "<Figure size 1008x216 with 1 Axes>"
      ]
     },
     "metadata": {},
     "output_type": "display_data"
    }
   ],
   "source": [
    "# bplot = df[\"Nota ENEM\"].boxplot(kind=\"box\", vert=False, grid=True, figsize=(11,3))\n",
    "\n",
    "fig = plt.figure(1, figsize=(default_box_width, 3))\n",
    "ax = fig.add_subplot(111)\n",
    "\n",
    "bplot = ax.boxplot(df[\"Nota ENEM\"], vert=False, widths=0.4)\n",
    "ax.set_yticklabels([\"\"])\n",
    "ax.set_xlabel(\"Nota ENEM\")\n",
    "ax.set_title(\"Diagrama em caixas da nota ENEM\")\n",
    "# ax.set_xbound(lower=0, upper=1150)\n",
    "ax.set_xticks(np.arange(0, 1150, 100))\n",
    "ax.set_xticks(np.arange(0, 1150, 25), minor=True)\n",
    "ax.grid(axis=\"x\", color=default_grid_color)\n",
    "\n",
    "for line in bplot['medians']:\n",
    "    x, y = line.get_xydata()[1]\n",
    "    plt.text(x, y+0.04, '%.1f' % x, horizontalalignment='center') # draw above, centered\n",
    "    line.set_color(\"black\")\n",
    "\n",
    "for line in bplot['boxes']:\n",
    "    x, y = line.get_xydata()[0] # bottom of left line\n",
    "    plt.text(x,y-0.04, '%.1f' % x, horizontalalignment='center', verticalalignment='top')      # below\n",
    "    x, y = line.get_xydata()[3] # bottom of right line\n",
    "    plt.text(x,y-0.04, '%.1f' % x, horizontalalignment='center', verticalalignment='top')      # below\n",
    "        \n",
    "for flier in bplot['fliers']:\n",
    "    flier.set(marker=default_box_marker, alpha=default_box_marker_alpha, markersize=default_box_marker_size)\n",
    "    y = 1.03\n",
    "    x = min(flier.get_xydata()[:,0])\n",
    "    plt.text(x,y+0.07, '%.1f' % x, horizontalalignment='center')      # above\n",
    "    x = max(flier.get_xydata()[:,0])\n",
    "    plt.text(x,y+0.07, '%.1f' % x, horizontalalignment='center')      # above\n",
    "    \n",
    "    \n",
    "plt.savefig('Figuras\\Q8.png', bbox_inches='tight', dpi=dpi)\n",
    "    "
   ]
  },
  {
   "cell_type": "code",
   "execution_count": 14,
   "metadata": {},
   "outputs": [
    {
     "name": "stdout",
     "output_type": "stream",
     "text": [
      "Esta afirmação é falsa, visto que apenas 71.5% dos alunos obtiveram nota maior ou igual a 420 no ENEM\n"
     ]
    }
   ],
   "source": [
    "print(\"Esta afirmação é falsa, visto que apenas {:.1f}% dos alunos obtiveram nota maior ou igual a 420 no ENEM\".format(100*sum(df[\"Nota ENEM\"] >= 420)/df[\"Nota ENEM\"].count()))"
   ]
  },
  {
   "cell_type": "markdown",
   "metadata": {},
   "source": [
    "## Questão 9\n",
    "Façam uma descrição da variável IAA. Há uma crença que o IAA da maioria dos alunos é superior a 5. Os dados atuais confirmam isso? JUSTIFIQUEM! (usando as tabelas de frequências, gráficos, e medidas usadas na descrição)."
   ]
  },
  {
   "cell_type": "code",
   "execution_count": 15,
   "metadata": {},
   "outputs": [
    {
     "data": {
      "text/plain": [
       "count    10000.000000\n",
       "mean         4.679870\n",
       "std          1.018379\n",
       "min          1.161000\n",
       "25%          3.999000\n",
       "50%          4.656000\n",
       "75%          5.353250\n",
       "max          8.771000\n",
       "Name: IAA, dtype: float64"
      ]
     },
     "execution_count": 15,
     "metadata": {},
     "output_type": "execute_result"
    }
   ],
   "source": [
    "df[\"IAA\"].describe()"
   ]
  },
  {
   "cell_type": "code",
   "execution_count": 16,
   "metadata": {},
   "outputs": [
    {
     "data": {
      "image/png": "[encoded data removed]",
      "text/plain": [
       "<Figure size 1008x216 with 1 Axes>"
      ]
     },
     "metadata": {},
     "output_type": "display_data"
    }
   ],
   "source": [
    "fig = plt.figure(1, figsize=(default_box_width, 3))\n",
    "ax = fig.add_subplot(111)\n",
    "\n",
    "bplot = ax.boxplot(df[\"IAA\"], vert=False, widths=0.4)\n",
    "ax.set_yticklabels([\"\"])\n",
    "ax.set_xlabel(\"Nota IAA\")\n",
    "ax.set_title(\"Diagrama em caixas do IAA\")\n",
    "ax.set_xbound((0,10))\n",
    "ax.set_xticks(np.arange(0, 10, 1))\n",
    "ax.set_xticks(np.arange(0, 10, 0.25), minor=True)\n",
    "ax.grid(axis=\"x\", color=default_grid_color)\n",
    "\n",
    "for line in bplot['medians']:\n",
    "    x, y = line.get_xydata()[1]\n",
    "    plt.text(x, y+0.04, '%.1f' % x, horizontalalignment='center') # draw above, centered\n",
    "    line.set(color=\"black\")\n",
    "\n",
    "for line in bplot['boxes']:\n",
    "    x, y = line.get_xydata()[0] # bottom of left line\n",
    "    plt.text(x,y-0.04, '%.1f' % x, horizontalalignment='center', verticalalignment='top')      # below\n",
    "    x, y = line.get_xydata()[3] # bottom of right line\n",
    "    plt.text(x,y-0.04, '%.1f' % x, horizontalalignment='center', verticalalignment='top')      # below\n",
    "        \n",
    "for flier in bplot['fliers']:\n",
    "    flier.set(marker=default_box_marker, alpha=default_box_marker_alpha, markersize=default_box_marker_size)\n",
    "    y = 1.03\n",
    "    x = min(flier.get_xydata()[:,0])\n",
    "    plt.text(x,y+0.07, '%.1f' % x, horizontalalignment='center')      # above\n",
    "    x = max(flier.get_xydata()[:,0])\n",
    "    plt.text(x,y+0.07, '%.1f' % x, horizontalalignment='center')      # above\n",
    "\n",
    "    \n",
    "plt.savefig('Figuras\\Q9.png', bbox_inches='tight', dpi=dpi)"
   ]
  },
  {
   "cell_type": "code",
   "execution_count": 17,
   "metadata": {},
   "outputs": [
    {
     "name": "stdout",
     "output_type": "stream",
     "text": [
      "Esta afirmação é falsa, visto que a mediana está localizada em 4.66 e apenas 37.0% dos alunos possuem IAA superior a 5\n"
     ]
    }
   ],
   "source": [
    "print(\"Esta afirmação é falsa, visto que a mediana está localizada em {:.2f} e apenas {:.1f}% dos alunos possuem IAA superior a 5\".format(df[\"IAA\"].median(), 100 * sum(df[\"IAA\"] > 5)/df[\"IAA\"].count()))"
   ]
  },
  {
   "cell_type": "code",
   "execution_count": null,
   "metadata": {},
   "outputs": [],
   "source": []
  }
 ],
 "metadata": {
  "kernelspec": {
   "display_name": "Python 3",
   "language": "python",
   "name": "python3"
  },
  "language_info": {
   "codemirror_mode": {
    "name": "ipython",
    "version": 3
   },
   "file_extension": ".py",
   "mimetype": "text/x-python",
   "name": "python",
   "nbconvert_exporter": "python",
   "pygments_lexer": "ipython3",
   "version": "3.6.4"
  }
 },
 "nbformat": 4,
 "nbformat_minor": 2
}
